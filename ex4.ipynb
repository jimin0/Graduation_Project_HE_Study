{
  "nbformat": 4,
  "nbformat_minor": 0,
  "metadata": {
    "colab": {
      "provenance": [],
      "collapsed_sections": [
        "SK3ZKfYGHMmZ",
        "jayPYfPNIXb5",
        "qyhhnulhjOGM"
      ],
      "toc_visible": true,
      "authorship_tag": "ABX9TyNVdeZEV0uZxpxN8IhtIlkS",
      "include_colab_link": true
    },
    "kernelspec": {
      "name": "python3",
      "display_name": "Python 3"
    },
    "language_info": {
      "name": "python"
    }
  },
  "cells": [
    {
      "cell_type": "markdown",
      "metadata": {
        "id": "view-in-github",
        "colab_type": "text"
      },
      "source": [
        "<a href=\"https://colab.research.google.com/github/jimin0/Graduation_Project_HE_Study/blob/main/ex4.ipynb\" target=\"_parent\"><img src=\"https://colab.research.google.com/assets/colab-badge.svg\" alt=\"Open In Colab\"/></a>"
      ]
    },
    {
      "cell_type": "markdown",
      "source": [
        "# 졸업작품\n",
        ">12/06 미팅 준비"
      ],
      "metadata": {
        "id": "Wud0ehfKHJrI"
      }
    },
    {
      "cell_type": "markdown",
      "source": [
        "## 동형암호로 연산으로 바꾸기 (합성곱 신경망(CNN)에서 사용되는 연산)\n",
        "\n",
        "```\n",
        "\n",
        "       for i in range(output_height):\n",
        "            for j in range(output_width):\n",
        "                for f in range(self.num_filters):\n",
        "                    h_start = i * self.stride\n",
        "                    h_end = h_start + self.kernel_size\n",
        "                    w_start = j * self.stride\n",
        "                    w_end = w_start + self.kernel_size\n",
        "                    receptive_field = input_volume[:, h_start:h_end, w_start:w_end, :]\n",
        "                    ###     ###\n",
        "                    output_volume[:, i, j, f] = np.sum(receptive_field * self.kernel[:, :, :, f], axis=(1, 2, 3)) + self.bias[:,:,:,f]\n",
        "        \n",
        "\n",
        "```\n",
        "\n",
        "\n",
        "교체부분\n",
        "\n",
        "`output_volume[:, i, j, f] = np.sum(receptive_field * self.kernel[:, :, :, f], axis=(1, 2, 3)) + self.bias[:,:,:,f]`\n"
      ],
      "metadata": {
        "id": "dp7rAL161uNr"
      }
    },
    {
      "cell_type": "markdown",
      "source": [
        "low level\n",
        "```\n",
        "                    for a in range(self.batch_size):\n",
        "                        temp = 0\n",
        "                        for b in range(self.kernel_size):\n",
        "                            for c in range(self.kernel_size):\n",
        "                                for d in range(self.input_channels):\n",
        "                                    temp += receptive_field[a,b,c,d] * self.kernel[b,c,d,f]\n",
        "\n",
        "                        output_volume[a, i, j, f] = temp + self.bias[:,:,:,f]\n",
        "```"
      ],
      "metadata": {
        "id": "VwbcBDp7741Y"
      }
    },
    {
      "cell_type": "markdown",
      "source": [
        "### 이해를 위한..  : Don't execution"
      ],
      "metadata": {
        "id": "nXkx50dtGvNv"
      }
    },
    {
      "cell_type": "code",
      "source": [
        "# 시뮬레이션을 위해 가정 - 이해를 위한..\n",
        "\n",
        "batch_size = 4\n",
        "input_channels = 3\n",
        "kernel_size = 3\n",
        "\n",
        "for a in range(batch_size):           # batch_size = 4, 4개의 데이터 샘플 처리\n",
        "  temp = 0                            # 합성곱 연산 결과 저장할 임시 변수\n",
        "  for b in range(kernel_size):        # kernel_size = 3, 3*3 윈도우를 의미\n",
        "    for c in range(kernel_size):\n",
        "      for d in range(input_channels):  # input_channels =3,  입력한 채널 수 만큼 반복 -> RGB 이미지의 각 색상 채널(R,G,B)\n",
        "          temp += receptive_field[a,b,c,d] * self.kernel[b,c,d,f] # 현재 처리 중인 데이터 샘플(수용필드) * 해당위치와 채널에서의 커널값 (내적)\n",
        "\n",
        "\n",
        "      output_volume[a, i, j, f] = temp + self.bias[:,:,:,f] #temp+bias"
      ],
      "metadata": {
        "id": "0J2d3aiu9KGb"
      },
      "execution_count": null,
      "outputs": []
    },
    {
      "cell_type": "markdown",
      "source": [
        "### 동형암호 적용\n",
        ">곱셈 한번, 덧셈 두번?"
      ],
      "metadata": {
        "id": "7NWLuZkcGyDb"
      }
    },
    {
      "cell_type": "markdown",
      "source": [
        "#### 환경설정"
      ],
      "metadata": {
        "id": "SK3ZKfYGHMmZ"
      }
    },
    {
      "cell_type": "code",
      "execution_count": null,
      "metadata": {
        "colab": {
          "base_uri": "https://localhost:8080/"
        },
        "id": "OAv0ZofNyK6I",
        "outputId": "f4f039c3-602f-4b0a-95a0-5f206cd01236"
      },
      "outputs": [
        {
          "output_type": "stream",
          "name": "stdout",
          "text": [
            "Cloning into 'SEAL-Python'...\n",
            "remote: Enumerating objects: 1628, done.\u001b[K\n",
            "remote: Counting objects: 100% (252/252), done.\u001b[K\n",
            "remote: Compressing objects: 100% (86/86), done.\u001b[K\n",
            "remote: Total 1628 (delta 176), reused 191 (delta 162), pack-reused 1376\u001b[K\n",
            "Receiving objects: 100% (1628/1628), 8.68 MiB | 14.86 MiB/s, done.\n",
            "Resolving deltas: 100% (882/882), done.\n",
            "/content/SEAL-Python/SEAL-Python/SEAL-Python\n",
            "Requirement already satisfied: numpy in /usr/local/lib/python3.10/dist-packages (1.23.5)\n",
            "Requirement already satisfied: pybind11 in /usr/local/lib/python3.10/dist-packages (2.11.1)\n",
            "Submodule 'SEAL' (https://github.com/microsoft/SEAL.git) registered for path 'SEAL'\n",
            "Submodule 'pybind11' (https://github.com/pybind/pybind11.git) registered for path 'pybind11'\n",
            "Cloning into '/content/SEAL-Python/SEAL-Python/SEAL-Python/SEAL'...\n",
            "Cloning into '/content/SEAL-Python/SEAL-Python/SEAL-Python/pybind11'...\n",
            "Submodule path 'SEAL': checked out '206648d0e4634e5c61dcf9370676630268290b59'\n",
            "Submodule path 'pybind11': checked out 'be97c5a98b4b252c524566f508b5c79410d118c6'\n",
            "/content/SEAL-Python/SEAL-Python/SEAL-Python/SEAL\n",
            "-- Build type (CMAKE_BUILD_TYPE): Release\n",
            "-- The CXX compiler identification is GNU 11.4.0\n",
            "-- The C compiler identification is GNU 11.4.0\n",
            "-- Detecting CXX compiler ABI info\n",
            "-- Detecting CXX compiler ABI info - done\n",
            "-- Check for working CXX compiler: /usr/bin/c++ - skipped\n",
            "-- Detecting CXX compile features\n",
            "-- Detecting CXX compile features - done\n",
            "-- Detecting C compiler ABI info\n",
            "-- Detecting C compiler ABI info - done\n",
            "-- Check for working C compiler: /usr/bin/cc - skipped\n",
            "-- Detecting C compile features\n",
            "-- Detecting C compile features - done\n",
            "-- Microsoft SEAL debug mode: OFF\n",
            "-- SEAL_USE_CXX17: ON\n",
            "-- SEAL_BUILD_DEPS: ON\n",
            "-- SEAL_USE_MSGSL: OFF\n",
            "-- SEAL_USE_ZLIB: OFF\n",
            "-- SEAL_USE_ZSTD: ON\n",
            "-- Zstandard: download ...\n",
            "\u001b[0mCMake Deprecation Warning at build/thirdparty/zstd-src/build/cmake/CMakeLists.txt:10 (cmake_minimum_required):\n",
            "  Compatibility with CMake < 3.5 will be removed from a future version of\n",
            "  CMake.\n",
            "\n",
            "  Update the VERSION argument <min> value or use a ...<max> suffix to tell\n",
            "  CMake that the project does not need compatibility with older versions.\n",
            "\n",
            "\u001b[0m\n",
            "-- ZSTD VERSION: 1.5.2\n",
            "-- Performing Test CXX_FLAG_STD_CPLUSPLUS11\n",
            "-- Performing Test CXX_FLAG_STD_CPLUSPLUS11 - Success\n",
            "-- Performing Test C_FLAG_STD_C99\n",
            "-- Performing Test C_FLAG_STD_C99 - Success\n",
            "-- Performing Test C_FLAG_WALL\n",
            "-- Performing Test C_FLAG_WALL - Success\n",
            "-- Performing Test CXX_FLAG_WALL\n",
            "-- Performing Test CXX_FLAG_WALL - Success\n",
            "-- Performing Test C_FLAG_WEXTRA\n",
            "-- Performing Test C_FLAG_WEXTRA - Success\n",
            "-- Performing Test CXX_FLAG_WEXTRA\n",
            "-- Performing Test CXX_FLAG_WEXTRA - Success\n",
            "-- Performing Test C_FLAG_WUNDEF\n",
            "-- Performing Test C_FLAG_WUNDEF - Success\n",
            "-- Performing Test CXX_FLAG_WUNDEF\n",
            "-- Performing Test CXX_FLAG_WUNDEF - Success\n",
            "-- Performing Test C_FLAG_WSHADOW\n",
            "-- Performing Test C_FLAG_WSHADOW - Success\n",
            "-- Performing Test CXX_FLAG_WSHADOW\n",
            "-- Performing Test CXX_FLAG_WSHADOW - Success\n",
            "-- Performing Test C_FLAG_WCAST_ALIGN\n",
            "-- Performing Test C_FLAG_WCAST_ALIGN - Success\n",
            "-- Performing Test CXX_FLAG_WCAST_ALIGN\n",
            "-- Performing Test CXX_FLAG_WCAST_ALIGN - Success\n",
            "-- Performing Test C_FLAG_WCAST_QUAL\n",
            "-- Performing Test C_FLAG_WCAST_QUAL - Success\n",
            "-- Performing Test CXX_FLAG_WCAST_QUAL\n",
            "-- Performing Test CXX_FLAG_WCAST_QUAL - Success\n",
            "-- Performing Test C_FLAG_WSTRICT_PROTOTYPES\n",
            "-- Performing Test C_FLAG_WSTRICT_PROTOTYPES - Success\n",
            "-- CMAKE_INSTALL_PREFIX: /usr/local\n",
            "-- CMAKE_INSTALL_LIBDIR: lib\n",
            "-- ZSTD_LEGACY_SUPPORT not defined!\n",
            "-- ZSTD_MULTITHREAD_SUPPORT is disabled\n",
            "-- The ASM compiler identification is GNU\n",
            "-- Found assembler: /usr/bin/cc\n",
            "-- SEAL_USE_INTEL_HEXL: OFF\n",
            "-- BUILD_SHARED_LIBS: OFF\n",
            "-- SEAL_THROW_ON_TRANSPARENT_CIPHERTEXT: ON\n",
            "-- SEAL_USE_GAUSSIAN_NOISE: OFF\n",
            "-- SEAL_DEFAULT_PRNG: Blake2xb\n",
            "-- SEAL_AVOID_BRANCHING: OFF\n",
            "-- x86intrin.h - found\n",
            "-- SEAL_USE_INTRIN: ON\n",
            "-- Performing Test SEAL_MEMSET_S_FOUND\n",
            "-- Performing Test SEAL_MEMSET_S_FOUND - Failed\n",
            "-- Looking for explicit_bzero\n",
            "-- Looking for explicit_bzero - found\n",
            "-- Looking for explicit_memset\n",
            "-- Looking for explicit_memset - not found\n",
            "-- SEAL_USE_MEMSET_S: OFF\n",
            "-- SEAL_USE_EXPLICIT_BZERO: ON\n",
            "-- SEAL_USE_EXPLICIT_MEMSET: OFF\n",
            "-- Performing Test CMAKE_HAVE_LIBC_PTHREAD\n",
            "-- Performing Test CMAKE_HAVE_LIBC_PTHREAD - Success\n",
            "-- Found Threads: TRUE  \n",
            "-- SEAL_BUILD_SEAL_C: OFF\n",
            "-- SEAL_BUILD_EXAMPLES: OFF\n",
            "-- SEAL_BUILD_TESTS: OFF\n",
            "-- SEAL_BUILD_BENCH: OFF\n",
            "-- Configuring done (15.0s)\n",
            "-- Generating done (0.0s)\n",
            "-- Build files have been written to: /content/SEAL-Python/SEAL-Python/SEAL-Python/SEAL/build\n",
            "[  1%] \u001b[32mBuilding C object thirdparty/zstd-build/lib/CMakeFiles/libzstd_static.dir/__/__/__/lib/common/debug.c.o\u001b[0m\n",
            "[  2%] \u001b[32mBuilding C object thirdparty/zstd-build/lib/CMakeFiles/libzstd_static.dir/__/__/__/lib/common/entropy_common.c.o\u001b[0m\n",
            "[  4%] \u001b[32mBuilding C object thirdparty/zstd-build/lib/CMakeFiles/libzstd_static.dir/__/__/__/lib/common/error_private.c.o\u001b[0m\n",
            "[  5%] \u001b[32mBuilding C object thirdparty/zstd-build/lib/CMakeFiles/libzstd_static.dir/__/__/__/lib/common/fse_decompress.c.o\u001b[0m\n",
            "[  7%] \u001b[32mBuilding C object thirdparty/zstd-build/lib/CMakeFiles/libzstd_static.dir/__/__/__/lib/common/pool.c.o\u001b[0m\n",
            "[  8%] \u001b[32mBuilding C object thirdparty/zstd-build/lib/CMakeFiles/libzstd_static.dir/__/__/__/lib/common/threading.c.o\u001b[0m\n",
            "[  9%] \u001b[32mBuilding C object thirdparty/zstd-build/lib/CMakeFiles/libzstd_static.dir/__/__/__/lib/common/xxhash.c.o\u001b[0m\n",
            "[ 11%] \u001b[32mBuilding C object thirdparty/zstd-build/lib/CMakeFiles/libzstd_static.dir/__/__/__/lib/common/zstd_common.c.o\u001b[0m\n",
            "[ 12%] \u001b[32mBuilding C object thirdparty/zstd-build/lib/CMakeFiles/libzstd_static.dir/__/__/__/lib/compress/fse_compress.c.o\u001b[0m\n",
            "[ 14%] \u001b[32mBuilding C object thirdparty/zstd-build/lib/CMakeFiles/libzstd_static.dir/__/__/__/lib/compress/hist.c.o\u001b[0m\n",
            "[ 15%] \u001b[32mBuilding C object thirdparty/zstd-build/lib/CMakeFiles/libzstd_static.dir/__/__/__/lib/compress/huf_compress.c.o\u001b[0m\n",
            "[ 16%] \u001b[32mBuilding C object thirdparty/zstd-build/lib/CMakeFiles/libzstd_static.dir/__/__/__/lib/compress/zstd_compress.c.o\u001b[0m\n",
            "[ 18%] \u001b[32mBuilding C object thirdparty/zstd-build/lib/CMakeFiles/libzstd_static.dir/__/__/__/lib/compress/zstd_compress_literals.c.o\u001b[0m\n",
            "[ 19%] \u001b[32mBuilding C object thirdparty/zstd-build/lib/CMakeFiles/libzstd_static.dir/__/__/__/lib/compress/zstd_compress_sequences.c.o\u001b[0m\n",
            "[ 21%] \u001b[32mBuilding C object thirdparty/zstd-build/lib/CMakeFiles/libzstd_static.dir/__/__/__/lib/compress/zstd_compress_superblock.c.o\u001b[0m\n",
            "[ 22%] \u001b[32mBuilding C object thirdparty/zstd-build/lib/CMakeFiles/libzstd_static.dir/__/__/__/lib/compress/zstd_double_fast.c.o\u001b[0m\n",
            "[ 23%] \u001b[32mBuilding C object thirdparty/zstd-build/lib/CMakeFiles/libzstd_static.dir/__/__/__/lib/compress/zstd_fast.c.o\u001b[0m\n",
            "[ 25%] \u001b[32mBuilding C object thirdparty/zstd-build/lib/CMakeFiles/libzstd_static.dir/__/__/__/lib/compress/zstd_lazy.c.o\u001b[0m\n",
            "[ 26%] \u001b[32mBuilding C object thirdparty/zstd-build/lib/CMakeFiles/libzstd_static.dir/__/__/__/lib/compress/zstd_ldm.c.o\u001b[0m\n",
            "[ 28%] \u001b[32mBuilding C object thirdparty/zstd-build/lib/CMakeFiles/libzstd_static.dir/__/__/__/lib/compress/zstd_opt.c.o\u001b[0m\n",
            "[ 29%] \u001b[32mBuilding C object thirdparty/zstd-build/lib/CMakeFiles/libzstd_static.dir/__/__/__/lib/compress/zstdmt_compress.c.o\u001b[0m\n",
            "[ 30%] \u001b[32mBuilding C object thirdparty/zstd-build/lib/CMakeFiles/libzstd_static.dir/__/__/__/lib/decompress/huf_decompress.c.o\u001b[0m\n",
            "[ 32%] \u001b[32mBuilding ASM object thirdparty/zstd-build/lib/CMakeFiles/libzstd_static.dir/__/__/__/lib/decompress/huf_decompress_amd64.S.o\u001b[0m\n",
            "[ 33%] \u001b[32mBuilding C object thirdparty/zstd-build/lib/CMakeFiles/libzstd_static.dir/__/__/__/lib/decompress/zstd_ddict.c.o\u001b[0m\n",
            "[ 35%] \u001b[32mBuilding C object thirdparty/zstd-build/lib/CMakeFiles/libzstd_static.dir/__/__/__/lib/decompress/zstd_decompress.c.o\u001b[0m\n",
            "[ 36%] \u001b[32mBuilding C object thirdparty/zstd-build/lib/CMakeFiles/libzstd_static.dir/__/__/__/lib/decompress/zstd_decompress_block.c.o\u001b[0m\n",
            "[ 38%] \u001b[32mBuilding C object thirdparty/zstd-build/lib/CMakeFiles/libzstd_static.dir/__/__/__/lib/dictBuilder/cover.c.o\u001b[0m\n",
            "[ 39%] \u001b[32mBuilding C object thirdparty/zstd-build/lib/CMakeFiles/libzstd_static.dir/__/__/__/lib/dictBuilder/divsufsort.c.o\u001b[0m\n",
            "[ 40%] \u001b[32mBuilding C object thirdparty/zstd-build/lib/CMakeFiles/libzstd_static.dir/__/__/__/lib/dictBuilder/fastcover.c.o\u001b[0m\n",
            "[ 42%] \u001b[32mBuilding C object thirdparty/zstd-build/lib/CMakeFiles/libzstd_static.dir/__/__/__/lib/dictBuilder/zdict.c.o\u001b[0m\n",
            "[ 43%] \u001b[32m\u001b[1mLinking C static library ../../../lib/libzstd.a\u001b[0m\n",
            "[ 43%] Built target libzstd_static\n",
            "[ 45%] \u001b[32mBuilding CXX object CMakeFiles/seal.dir/native/src/seal/batchencoder.cpp.o\u001b[0m\n",
            "[ 46%] \u001b[32mBuilding CXX object CMakeFiles/seal.dir/native/src/seal/ciphertext.cpp.o\u001b[0m\n",
            "[ 47%] \u001b[32mBuilding CXX object CMakeFiles/seal.dir/native/src/seal/ckks.cpp.o\u001b[0m\n",
            "[ 49%] \u001b[32mBuilding CXX object CMakeFiles/seal.dir/native/src/seal/context.cpp.o\u001b[0m\n",
            "[ 50%] \u001b[32mBuilding CXX object CMakeFiles/seal.dir/native/src/seal/decryptor.cpp.o\u001b[0m\n",
            "[ 52%] \u001b[32mBuilding CXX object CMakeFiles/seal.dir/native/src/seal/encryptionparams.cpp.o\u001b[0m\n",
            "[ 53%] \u001b[32mBuilding CXX object CMakeFiles/seal.dir/native/src/seal/encryptor.cpp.o\u001b[0m\n",
            "[ 54%] \u001b[32mBuilding CXX object CMakeFiles/seal.dir/native/src/seal/evaluator.cpp.o\u001b[0m\n",
            "[ 56%] \u001b[32mBuilding CXX object CMakeFiles/seal.dir/native/src/seal/keygenerator.cpp.o\u001b[0m\n",
            "[ 57%] \u001b[32mBuilding CXX object CMakeFiles/seal.dir/native/src/seal/kswitchkeys.cpp.o\u001b[0m\n",
            "[ 59%] \u001b[32mBuilding CXX object CMakeFiles/seal.dir/native/src/seal/memorymanager.cpp.o\u001b[0m\n",
            "[ 60%] \u001b[32mBuilding CXX object CMakeFiles/seal.dir/native/src/seal/modulus.cpp.o\u001b[0m\n",
            "[ 61%] \u001b[32mBuilding CXX object CMakeFiles/seal.dir/native/src/seal/plaintext.cpp.o\u001b[0m\n",
            "[ 63%] \u001b[32mBuilding CXX object CMakeFiles/seal.dir/native/src/seal/randomgen.cpp.o\u001b[0m\n",
            "[ 64%] \u001b[32mBuilding CXX object CMakeFiles/seal.dir/native/src/seal/serialization.cpp.o\u001b[0m\n",
            "[ 66%] \u001b[32mBuilding CXX object CMakeFiles/seal.dir/native/src/seal/valcheck.cpp.o\u001b[0m\n",
            "[ 67%] \u001b[32mBuilding C object CMakeFiles/seal.dir/native/src/seal/util/blake2b.c.o\u001b[0m\n",
            "[ 69%] \u001b[32mBuilding C object CMakeFiles/seal.dir/native/src/seal/util/blake2xb.c.o\u001b[0m\n",
            "[ 70%] \u001b[32mBuilding CXX object CMakeFiles/seal.dir/native/src/seal/util/clipnormal.cpp.o\u001b[0m\n",
            "[ 71%] \u001b[32mBuilding CXX object CMakeFiles/seal.dir/native/src/seal/util/common.cpp.o\u001b[0m\n",
            "[ 73%] \u001b[32mBuilding CXX object CMakeFiles/seal.dir/native/src/seal/util/croots.cpp.o\u001b[0m\n",
            "[ 74%] \u001b[32mBuilding C object CMakeFiles/seal.dir/native/src/seal/util/fips202.c.o\u001b[0m\n",
            "[ 76%] \u001b[32mBuilding CXX object CMakeFiles/seal.dir/native/src/seal/util/globals.cpp.o\u001b[0m\n",
            "[ 77%] \u001b[32mBuilding CXX object CMakeFiles/seal.dir/native/src/seal/util/galois.cpp.o\u001b[0m\n",
            "[ 78%] \u001b[32mBuilding CXX object CMakeFiles/seal.dir/native/src/seal/util/hash.cpp.o\u001b[0m\n",
            "[ 80%] \u001b[32mBuilding CXX object CMakeFiles/seal.dir/native/src/seal/util/iterator.cpp.o\u001b[0m\n",
            "[ 81%] \u001b[32mBuilding CXX object CMakeFiles/seal.dir/native/src/seal/util/mempool.cpp.o\u001b[0m\n",
            "[ 83%] \u001b[32mBuilding CXX object CMakeFiles/seal.dir/native/src/seal/util/numth.cpp.o\u001b[0m\n",
            "[ 84%] \u001b[32mBuilding CXX object CMakeFiles/seal.dir/native/src/seal/util/polyarithsmallmod.cpp.o\u001b[0m\n",
            "[ 85%] \u001b[32mBuilding CXX object CMakeFiles/seal.dir/native/src/seal/util/rlwe.cpp.o\u001b[0m\n",
            "[ 87%] \u001b[32mBuilding CXX object CMakeFiles/seal.dir/native/src/seal/util/rns.cpp.o\u001b[0m\n",
            "[ 88%] \u001b[32mBuilding CXX object CMakeFiles/seal.dir/native/src/seal/util/scalingvariant.cpp.o\u001b[0m\n",
            "[ 90%] \u001b[32mBuilding CXX object CMakeFiles/seal.dir/native/src/seal/util/ntt.cpp.o\u001b[0m\n",
            "[ 91%] \u001b[32mBuilding CXX object CMakeFiles/seal.dir/native/src/seal/util/streambuf.cpp.o\u001b[0m\n",
            "[ 92%] \u001b[32mBuilding CXX object CMakeFiles/seal.dir/native/src/seal/util/uintarith.cpp.o\u001b[0m\n",
            "[ 94%] \u001b[32mBuilding CXX object CMakeFiles/seal.dir/native/src/seal/util/uintarithmod.cpp.o\u001b[0m\n",
            "[ 95%] \u001b[32mBuilding CXX object CMakeFiles/seal.dir/native/src/seal/util/uintarithsmallmod.cpp.o\u001b[0m\n",
            "[ 97%] \u001b[32mBuilding CXX object CMakeFiles/seal.dir/native/src/seal/util/uintcore.cpp.o\u001b[0m\n",
            "[ 98%] \u001b[32mBuilding CXX object CMakeFiles/seal.dir/native/src/seal/util/ztools.cpp.o\u001b[0m\n",
            "[100%] \u001b[32m\u001b[1mLinking CXX static library lib/libseal-4.1.a\u001b[0m\n",
            "[100%] Built target seal\n",
            "/content/SEAL-Python/SEAL-Python/SEAL-Python\n",
            "running build_ext\n",
            "x86_64-linux-gnu-gcc -Wno-unused-result -Wsign-compare -DNDEBUG -g -fwrapv -O2 -Wall -g -fstack-protector-strong -Wformat -Werror=format-security -g -fwrapv -O2 -fPIC -I/usr/include/python3.10 -c flagcheck.cpp -o flagcheck.o -std=c++17\n",
            "building 'seal' extension\n",
            "creating build\n",
            "creating build/temp.linux-x86_64-cpython-310\n",
            "creating build/temp.linux-x86_64-cpython-310/src\n",
            "x86_64-linux-gnu-gcc -Wno-unused-result -Wsign-compare -DNDEBUG -g -fwrapv -O2 -Wall -g -fstack-protector-strong -Wformat -Werror=format-security -g -fwrapv -O2 -fPIC -DVERSION_INFO=4.0.0 -I/usr/include/python3.10 -Ipybind11/include -ISEAL/native/src -ISEAL/build/native/src -I/usr/local/lib/python3.10/dist-packages/pybind11/include -I/usr/include/python3.10 -c src/wrapper.cpp -o build/temp.linux-x86_64-cpython-310/src/wrapper.o -std=c++17 -fvisibility=hidden -g0 -std=c++17\n",
            "creating build/lib.linux-x86_64-cpython-310\n",
            "x86_64-linux-gnu-g++ -shared -Wl,-O1 -Wl,-Bsymbolic-functions -Wl,-Bsymbolic-functions -g -fwrapv -O2 build/temp.linux-x86_64-cpython-310/src/wrapper.o SEAL/build/lib/libseal-4.1.a SEAL/build/lib/libzstd.a -L/usr/lib/x86_64-linux-gnu -o build/lib.linux-x86_64-cpython-310/seal.cpython-310-x86_64-linux-gnu.so\n",
            "copying build/lib.linux-x86_64-cpython-310/seal.cpython-310-x86_64-linux-gnu.so -> \n"
          ]
        }
      ],
      "source": [
        "!git clone https://github.com/Huelse/SEAL-Python.git\n",
        "%cd SEAL-Python\n",
        "\n",
        "# Install dependencies\n",
        "!pip3 install numpy pybind11\n",
        "\n",
        "# Init the SEAL and pybind11\n",
        "!git submodule update --init --recursive\n",
        "# Get the newest repositories (dev only)\n",
        "# git submodule update --remote\n",
        "\n",
        "# Build the SEAL lib\n",
        "%cd SEAL\n",
        "!cmake -S . -B build -DSEAL_USE_MSGSL=OFF -DSEAL_USE_ZLIB=OFF\n",
        "!cmake --build build\n",
        "%cd ..\n",
        "\n",
        "# Run the setup.py\n",
        "!python3 setup.py build_ext -i\n"
      ]
    },
    {
      "cell_type": "markdown",
      "source": [
        "#### 객체 생성 및 키 생성\n",
        "\n"
      ],
      "metadata": {
        "id": "jayPYfPNIXb5"
      }
    },
    {
      "cell_type": "code",
      "source": [
        "# SEAL 라이브러리의 모든 클래스와 함수를 임포트합니다.\n",
        "from seal import *\n",
        "import numpy as np\n",
        "\n",
        "# BGV 암호화 스킴을 사용할 암호화 매개변수 객체를 생성합니다.\n",
        "parms = EncryptionParameters(scheme_type.bgv)\n",
        "\n",
        "\"\"\"\n",
        "poly_modulus_degree가 클수록 암호화된 텍스트의 크기가 커지고 모든 연산이 느려지지만,\n",
        "더 복잡한 암호화된 계산을 가능하게 함. 권장되는 값들은 1024, 2048, 4096, 8192, 16384, 32768이지만,\n",
        "이 범위를 넘어가는 것도 가능\n",
        "\"\"\"\n",
        "poly_modulus_degree = 8192\n",
        "parms.set_poly_modulus_degree(poly_modulus_degree)\n",
        "parms.set_coeff_modulus(CoeffModulus.BFVDefault(poly_modulus_degree))\n",
        "parms.set_plain_modulus(PlainModulus.Batching(poly_modulus_degree, 20))\n",
        "\n",
        "\n",
        "context = SEALContext(parms)\n",
        "\n",
        "\n",
        "# 계수 모듈러스를 설정합니다. 이는 암호화 시 사용되는 모듈러스 값으로,\n",
        "# BFVDefault는 보안 수준에 맞는 기본 모듈러스 값을 선택합니다.\n",
        "parms.set_coeff_modulus(CoeffModulus.BFVDefault(poly_modulus_degree))\n",
        "\n",
        "# 평문 모듈러스를 설정합니다.\n",
        "# 이 모듈러스는 암호화되지 않은 데이터가 취할 수 있는 값의 범위를 정의합니다.\n",
        "# 이 경우, 값의 범위는 0에서 255입니다.\n",
        "parms.set_plain_modulus(256)\n",
        "\n",
        "\n",
        "# 키 생성\n",
        "\n",
        "keygen = KeyGenerator(context)\n",
        "\n",
        "secret_key = keygen.secret_key()\n",
        "public_key = keygen.create_public_key()\n",
        "relin_keys = keygen.create_relin_keys()\n",
        "galois_keys =  keygen.create_galois_keys()\n",
        "\n",
        "encryptor = Encryptor(context, public_key)\n",
        "evaluator = Evaluator(context)\n",
        "decryptor = Decryptor(context, secret_key)\n",
        "\n",
        "\n",
        "batch_encoder = BatchEncoder(context)\n",
        "slot_count = batch_encoder.slot_count()\n",
        "row_size = slot_count / 2\n",
        "print(f'Plaintext matrix row size: {row_size}')"
      ],
      "metadata": {
        "colab": {
          "base_uri": "https://localhost:8080/"
        },
        "id": "JbgBwPfrGpq-",
        "outputId": "338527e5-ce17-49a8-fea1-00dc6b149bb9"
      },
      "execution_count": null,
      "outputs": [
        {
          "output_type": "stream",
          "name": "stdout",
          "text": [
            "Plaintext matrix row size: 4096.0\n"
          ]
        }
      ]
    },
    {
      "cell_type": "markdown",
      "source": [
        "#### 암호화"
      ],
      "metadata": {
        "id": "FxPYqBXXI1qi"
      }
    },
    {
      "cell_type": "markdown",
      "source": [
        "시뮬레이션을 위해 임의의 값 할당"
      ],
      "metadata": {
        "id": "SmKnWDu7jwg4"
      }
    },
    {
      "cell_type": "code",
      "source": [
        "# 예시 값을 설정\n",
        "batch_size = 4\n",
        "kernel_size = 3\n",
        "input_channels = 3\n",
        "\n",
        "a, b, c, d = 0, 0, 0, 0\n",
        "\n",
        "f = 0  # 출력 채널의 인덱스 예시\n",
        "i, j = 0, 0  # output_volume의 인덱스 예시\n",
        "temp =0\n",
        "\n",
        "# receptive_field, kernel, bias, output_volume의 차원 설정\n",
        "receptive_field = np.random.randint(0, 5, (batch_size, kernel_size, kernel_size, input_channels))\n",
        "kernel = np.random.randint(0, 5, (kernel_size, kernel_size, input_channels, batch_size))\n",
        "bias = np.random.randint(0, 5, (1, 1, 1, batch_size))\n",
        "output_volume = np.zeros((batch_size, 1, 1, batch_size))  # output_volume 초기화\n",
        "\n",
        "# 결과 출력\n",
        "#receptive_field, kernel, bias, output_volume\n",
        "\n",
        "print(\"선언(Beforeconv layer 연산)\")\n",
        "print(\"receptive_fields[a,b,c,d] = \",receptive_field[a,b,c,d])\n",
        "print(\"kernel[b,c,d,f]  = \",kernel[b,c,d,f] )\n",
        "print(\"bias[0, 0, 0, f]  = \",bias[0, 0, 0, f] )\n",
        "print(\"temp = 0\")\n",
        "print(\"receptive_field[a,b,c,d] * self.kernel[b,c,d,f] = \",receptive_field[a,b,c,d]*kernel[b,c,d,f])\n",
        "print(\"output_volume[a, i, j, f] = temp + bias[0, 0, 0, f] = \",temp + bias[0, 0, 0, f])\n",
        "\n",
        "print()\n",
        "\n",
        "# 합성곱 연산 수행\n",
        "for a in range(batch_size):\n",
        "    temp = 0\n",
        "    for b in range(kernel_size):\n",
        "        for c in range(kernel_size):\n",
        "            for d in range(input_channels):\n",
        "                temp += receptive_field[a, b, c, d] * kernel[b, c, d, f]\n",
        "\n",
        "    output_volume[a, i, j, f] = temp + bias[0, 0, 0, f]\n",
        "\n",
        "\n",
        "\n",
        "\n",
        "print(\"=============================================================================================\")\n",
        "print(\"(After conv layer 연산 끝난 후)\")\n",
        "print(\"receptive_fields[a,b,c,d] = \",receptive_field[a,b,c,d])\n",
        "print(\"kernel[b,c,d,f]  = \",kernel[b,c,d,f] )\n",
        "print(\"bias[0, 0, 0, f]  = \",bias[0, 0, 0, f] )\n",
        "print(\"receptive_field[a,b,c,d] * self.kernel[b,c,d,f] = \",receptive_field[a,b,c,d]*kernel[b,c,d,f])\n",
        "print(\"output_volume[a, i, j, f] = temp + bias[0, 0, 0, f] = \",temp + bias[0, 0, 0, f])\n",
        "print(\"result temp = \",temp)\n",
        "print(\"result output_volume = \",output_volume[a, i, j, f])"
      ],
      "metadata": {
        "colab": {
          "base_uri": "https://localhost:8080/"
        },
        "id": "7OaqqwZNhCcc",
        "outputId": "328fd93a-5885-4030-b0c3-48bcd15f581f"
      },
      "execution_count": null,
      "outputs": [
        {
          "output_type": "stream",
          "name": "stdout",
          "text": [
            "선언(Beforeconv layer 연산)\n",
            "receptive_fields[a,b,c,d] =  1\n",
            "kernel[b,c,d,f]  =  3\n",
            "bias[0, 0, 0, f]  =  3\n",
            "temp = 0\n",
            "receptive_field[a,b,c,d] * self.kernel[b,c,d,f] =  3\n",
            "output_volume[a, i, j, f] = temp + bias[0, 0, 0, f] =  3\n",
            "\n",
            "=============================================================================================\n",
            "(After conv layer 연산 끝난 후)\n",
            "receptive_fields[a,b,c,d] =  2\n",
            "kernel[b,c,d,f]  =  2\n",
            "bias[0, 0, 0, f]  =  3\n",
            "receptive_field[a,b,c,d] * self.kernel[b,c,d,f] =  4\n",
            "output_volume[a, i, j, f] = temp + bias[0, 0, 0, f] =  111\n",
            "result temp =  108\n",
            "result output_volume =  111.0\n"
          ]
        }
      ]
    },
    {
      "cell_type": "markdown",
      "source": [
        "###### 폐기 코드\n",
        ">----> matrix에 넣어서 한꺼번에 plain text, cipertext로 변환 아이디어 -> Chipertext 클래스는 암호문 배열 인덱싱 계산이 없음... --> 폐기.."
      ],
      "metadata": {
        "id": "qyhhnulhjOGM"
      }
    },
    {
      "cell_type": "code",
      "source": [
        "# 암호화 : receptive_field, self.kernel, self.bias\n",
        "pod_matrix = [0] * slot_count\n",
        "\n",
        "\n",
        "\"\"\"Q. 질문 int로 변환해도 되는지, string으로 해야하는지, 실수형으로 인자는 못 받음.  -> 일단 Int로 전환\"\"\"\n",
        "receptive_field_value = int(receptive_field[a,b,c,d])\n",
        "kernel_value = int(kernel[b,c,d,f])   # 일단 self 지움.  -> self.bias\n",
        "bias_value = int(bias[0, 0, 0, f])       # 일단 self 지움.  -> self.bias\n",
        "\n",
        "pod_matrix[0] = receptive_field_value\n",
        "pod_matrix[1] = kernel_value\n",
        "pod_matrix[2] = bias_value\n",
        "\n",
        "# 값이 할당 잘 되어있는지 확인\n",
        "print(\"pod_matrix = \",pod_matrix[:3])\n",
        "\n",
        "x_plain = batch_encoder.encode(pod_matrix[:3])  # plain text로 변환\n",
        "print(x_plain)\n",
        "\n",
        "x_encrypted = encryptor.encrypt(x_plain)\n",
        "print(x_encrypted)\n",
        "\n",
        "print(f'noise budget in freshly encrypted x: {decryptor.invariant_noise_budget(x_encrypted)}')\n",
        "print('-'*50)"
      ],
      "metadata": {
        "colab": {
          "base_uri": "https://localhost:8080/"
        },
        "id": "EPoW3vUvI0eh",
        "outputId": "9d8f9558-b92d-4817-da11-62507ab60b52"
      },
      "execution_count": null,
      "outputs": [
        {
          "output_type": "stream",
          "name": "stdout",
          "text": [
            "pod_matrix =  [0, 3, 1]\n",
            "<seal.Plaintext object at 0x7c49fc1ffb70>\n",
            "<seal.Ciphertext object at 0x7c49fc1fe170>\n",
            "noise budget in freshly encrypted x: 146\n",
            "--------------------------------------------------\n"
          ]
        }
      ]
    },
    {
      "cell_type": "markdown",
      "source": [
        "##### here!"
      ],
      "metadata": {
        "id": "6I2ZtPf8jRxR"
      }
    },
    {
      "cell_type": "markdown",
      "source": [
        "모든 변수 평문으로 인코딩하고 암호화 (type = int)"
      ],
      "metadata": {
        "id": "CUytvER-jo4Z"
      }
    },
    {
      "cell_type": "code",
      "source": [
        "receptive_field_value_int = int(receptive_field[a,b,c,d])\n",
        "kernel_value_int = int(kernel[b,c,d,f])         # 일단 self 지움.  -> self.bias\n",
        "bias_value_int = int(bias[0, 0, 0, f])                      # 일단 self 지움.  -> self.bias\n",
        "output_volume_int = int(output_volume[a, i, j, f])\n",
        "\n",
        "print(\"receptive_field_value = \",receptive_field_value_int)\n",
        "print(\"kernel_value = \",kernel_value_int)\n",
        "print(\"bias_value = \",bias_value_int)\n",
        "print(\"output_volume = \",output_volume_int)\n",
        "\n",
        "# 평문으로 인코딩하고 암호화 (int)\n",
        "receptive_field_int_pt = Plaintext(receptive_field_value_int)\n",
        "receptive_field_int_encrypted = Ciphertext()\n",
        "receptive_field_int_encrypted = encryptor.encrypt(receptive_field_int_pt)\n",
        "\n",
        "kernel_int_pt = Plaintext(kernel_value_int)\n",
        "kernel_int_encrypted = Ciphertext()\n",
        "kernel_int_encrypted = encryptor.encrypt(kernel_int_pt)\n",
        "\n",
        "\"Q. 질문 : bias 도 chiphertext로 해야하는지, 아님 plaintext인지\"\n",
        "bias_int_pt = Plaintext(bias_value_int)\n",
        "bias_int_encrypted = Ciphertext()\n",
        "bias_int_encrypted = encryptor.encrypt(bias_int_pt)\n",
        "\n",
        "\n",
        "output_volume_int_pt=Plaintext(output_volume_int)\n",
        "output_volume_int_encrypted = Ciphertext()\n",
        "output_volume_int_encrypted = encryptor.encrypt(output_volume_int_pt)\n",
        "\n",
        "print()\n",
        "(receptive_field_int_encrypted, kernel_int_encrypted, bias_int_encrypted, output_volume_int_encrypted)"
      ],
      "metadata": {
        "colab": {
          "base_uri": "https://localhost:8080/"
        },
        "id": "1KTku8jRue12",
        "outputId": "f842690e-8994-4a34-e164-8b873e9fc5d4"
      },
      "execution_count": null,
      "outputs": [
        {
          "output_type": "stream",
          "name": "stdout",
          "text": [
            "receptive_field_value =  2\n",
            "kernel_value =  2\n",
            "bias_value =  3\n",
            "output_volume =  111\n",
            "\n"
          ]
        },
        {
          "output_type": "execute_result",
          "data": {
            "text/plain": [
              "(<seal.Ciphertext at 0x7d1a09cd4cf0>,\n",
              " <seal.Ciphertext at 0x7d1a09cd4b70>,\n",
              " <seal.Ciphertext at 0x7d1a04647770>,\n",
              " <seal.Ciphertext at 0x7d1a04645e30>)"
            ]
          },
          "metadata": {},
          "execution_count": 85
        }
      ]
    },
    {
      "cell_type": "markdown",
      "source": [
        "모든 변수 평문으로 인코딩하고 암호화 (type = string)"
      ],
      "metadata": {
        "id": "t2VD6tYG0Kt-"
      }
    },
    {
      "cell_type": "code",
      "source": [
        "receptive_field_value = int(receptive_field[a, b, c, d])\n",
        "kernel_value = int(kernel[b, c, d, f])\n",
        "bias_value = int(bias[0, 0, 0, f])\n",
        "output_volume_value = int(output_volume[a, i, j, f])\n",
        "\n",
        "\n",
        "print(\"receptive_field_value = \",receptive_field_value)\n",
        "print(\"kernel_value = \",kernel_value)\n",
        "print(\"bias_value = \",bias_value)\n",
        "print(\"output_volume = \",output_volume)\n",
        "\n",
        "# 평문으로 인코딩하고 암호화 (str)\n",
        "receptive_field_str_pt = Plaintext(str(receptive_field_value))\n",
        "receptive_str_field_encrypted = encryptor.encrypt(receptive_field_str_pt)\n",
        "\n",
        "kernel_str_pt = Plaintext(str(kernel_value))\n",
        "kernel_str_encrypted = encryptor.encrypt(kernel_str_pt)\n",
        "\n",
        "bias_str_pt = Plaintext(str(bias_value))\n",
        "bias_str_encrypted = encryptor.encrypt(bias_str_pt)\n",
        "\n",
        "output_volume_str_pt = Plaintext(str(output_volume_value))\n",
        "output_volume_str_encrypted = encryptor.encrypt(output_volume_str_pt)\n",
        "\n",
        "print()\n",
        "(receptive_str_field_encrypted, kernel_str_encrypted, bias_str_encrypted, output_volume_str_encrypted)"
      ],
      "metadata": {
        "colab": {
          "base_uri": "https://localhost:8080/"
        },
        "id": "bCAWjEHnwmPU",
        "outputId": "e49311e6-459e-418c-b51d-4f1df9fa6346"
      },
      "execution_count": null,
      "outputs": [
        {
          "output_type": "stream",
          "name": "stdout",
          "text": [
            "receptive_field_value =  2\n",
            "kernel_value =  2\n",
            "bias_value =  3\n",
            "output_volume =  111\n",
            "\n"
          ]
        },
        {
          "output_type": "execute_result",
          "data": {
            "text/plain": [
              "(<seal.Ciphertext at 0x7d1a046469f0>,\n",
              " <seal.Ciphertext at 0x7d1a046461b0>,\n",
              " <seal.Ciphertext at 0x7d1a09cd5a30>,\n",
              " <seal.Ciphertext at 0x7d1a04647ab0>)"
            ]
          },
          "metadata": {},
          "execution_count": 86
        }
      ]
    },
    {
      "cell_type": "markdown",
      "source": [
        "중간 점검 : 복호화 테스트"
      ],
      "metadata": {
        "id": "wTJHk0LS1Tu5"
      }
    },
    {
      "cell_type": "code",
      "source": [
        "# receptive_field 복호화 test (int)\n",
        "decrypted_receptive_field_int_pt = Plaintext()\n",
        "decryptor.decrypt(receptive_str_field_encrypted, decrypted_receptive_field_int_pt)\n",
        "decrypted_receptive_field_int_value = decrypted_receptive_field_int_pt.to_string()\n",
        "\n",
        "print(decrypted_receptive_field_int_value)\n",
        "\n",
        "\n",
        "# receptive_field 복호화 test (string)\n",
        "decrypted_receptive_field_str_pt = Plaintext()\n",
        "decryptor.decrypt(receptive_str_field_encrypted, decrypted_receptive_field_str_pt)\n",
        "decrypted_receptive_field_value = decrypted_receptive_field_str_pt.to_string()\n",
        "\n",
        "print(decrypted_receptive_field_value)\n"
      ],
      "metadata": {
        "colab": {
          "base_uri": "https://localhost:8080/"
        },
        "id": "xmBGYDPwwsDf",
        "outputId": "b77f8c06-533c-4187-d85e-04ffaecb163f"
      },
      "execution_count": null,
      "outputs": [
        {
          "output_type": "stream",
          "name": "stdout",
          "text": [
            "2\n",
            "2\n"
          ]
        }
      ]
    },
    {
      "cell_type": "markdown",
      "source": [
        "##### 그냥 참고코드 -> 폐기"
      ],
      "metadata": {
        "id": "N40faYgc10gr"
      }
    },
    {
      "cell_type": "code",
      "source": [
        "string = \"HELLO\"\n",
        "encoded_string = [ord(char) for char in string]  # 문자열을 ASCII 코드로 변환\n",
        "\n",
        "encrypted_values = []\n",
        "for value in encoded_string:\n",
        "    plaintext = Plaintext(str(value))\n",
        "    encrypted_value = encryptor.encrypt(plaintext)\n",
        "    encrypted_values.append(encrypted_value)\n",
        "\n",
        "print(encrypted_values[0])"
      ],
      "metadata": {
        "colab": {
          "base_uri": "https://localhost:8080/"
        },
        "id": "yfe1qi4uwFxf",
        "outputId": "c2a61ad8-8296-4b08-b9e2-6ff39a6da0d6"
      },
      "execution_count": null,
      "outputs": [
        {
          "output_type": "stream",
          "name": "stdout",
          "text": [
            "<seal.Ciphertext object at 0x7d1a09e80f30>\n"
          ]
        }
      ]
    },
    {
      "cell_type": "markdown",
      "source": [
        "##### main"
      ],
      "metadata": {
        "id": "HQgeNgfp15Jz"
      }
    },
    {
      "cell_type": "markdown",
      "source": [
        "연산 int 형으로"
      ],
      "metadata": {
        "id": "pcOPNjc9karL"
      }
    },
    {
      "cell_type": "code",
      "source": [
        "# receptive_field[a,b,c,d] * self.kernel[b,c,d,f]\n",
        "\n",
        "product = evaluator.multiply(receptive_field_int_encrypted, kernel_int_encrypted) # 4= 2*2\n",
        "\n",
        "# 복호화 및 결과 확인\n",
        "decrypted_product_int_pt = Plaintext()\n",
        "decryptor.decrypt(product, decrypted_product_int_pt)\n",
        "decrypted_product_value = decrypted_product_int_pt.to_string()\n",
        "\n",
        "print(decrypted_product_value)\n",
        "# 2"
      ],
      "metadata": {
        "colab": {
          "base_uri": "https://localhost:8080/"
        },
        "id": "izRy9DufdXtq",
        "outputId": "aa14534a-481a-4c26-8465-5cb5381280b9"
      },
      "execution_count": null,
      "outputs": [
        {
          "output_type": "stream",
          "name": "stdout",
          "text": [
            "0\n"
          ]
        }
      ]
    },
    {
      "cell_type": "markdown",
      "source": [
        "연산 string으로"
      ],
      "metadata": {
        "id": "MyfMcuLp38AX"
      }
    },
    {
      "cell_type": "code",
      "source": [
        "# receptive_field[a,b,c,d] * self.kernel[b,c,d,f]\n",
        "\n",
        "product = evaluator.multiply(receptive_str_field_encrypted, kernel_str_encrypted)  # 4= 2*2\n",
        "\n",
        "# 복호화 및 결과 확인\n",
        "decrypted_product_str_pt = Plaintext()\n",
        "decryptor.decrypt(product, decrypted_product_str_pt)\n",
        "decrypted_product_value = decrypted_product_str_pt.to_string()\n",
        "\n",
        "print(decrypted_product_value)"
      ],
      "metadata": {
        "colab": {
          "base_uri": "https://localhost:8080/"
        },
        "id": "qdlt5FfQ3HCZ",
        "outputId": "09cc8bdd-1736-4f06-8176-f18a1e2acba5"
      },
      "execution_count": null,
      "outputs": [
        {
          "output_type": "stream",
          "name": "stdout",
          "text": [
            "4\n"
          ]
        }
      ]
    },
    {
      "cell_type": "code",
      "source": [
        "# temp += receptive_field[a,b,c,d] * self.kernel[b,c,d,f]\n",
        "temp_encrypted = encryptor.encrypt(Plaintext(\"0\"))  # 암호화된 0으로 temp 초기화\n",
        "temp_encrypted = evaluator.add(temp_encrypted, product)\n",
        "\n",
        "# 복호화 및 결과 확인\n",
        "decrypted = Plaintext()\n",
        "decryptor.decrypt(temp_encrypted, decrypted)\n",
        "decrypted.to_string()\n",
        "\n",
        "print(decrypted.to_string())"
      ],
      "metadata": {
        "colab": {
          "base_uri": "https://localhost:8080/"
        },
        "id": "24opxN26emnl",
        "outputId": "948166bd-b105-470e-cc4e-5ef5f6e35164"
      },
      "execution_count": null,
      "outputs": [
        {
          "output_type": "stream",
          "name": "stdout",
          "text": [
            "4\n"
          ]
        }
      ]
    },
    {
      "cell_type": "code",
      "source": [
        "# output_volume[a, i, j, f] = temp + self.bias[:,:,:,f] #temp+bias\n",
        "\n",
        "output_volume_encrypted =  evaluator.add(temp_encrypted, bias_encrypted)"
      ],
      "metadata": {
        "id": "OYOlu7KWkC68"
      },
      "execution_count": null,
      "outputs": []
    },
    {
      "cell_type": "markdown",
      "source": [
        "##### conv layer 연산 종합코드"
      ],
      "metadata": {
        "id": "HvpQRIpfkc45"
      }
    },
    {
      "cell_type": "code",
      "source": [
        "# 가정: 동형암호 라이브러리의 곱셈과 덧셈 연산 함수\n",
        "# multiply_encrypted, add_encrypted는 암호화된 데이터에 대해 연산을 수행하는 함수\n",
        "\n",
        "for a in range(batch_size):\n",
        "    temp_encrypted = encryptor.encrypt(Plaintext(\"0\"))  # 암호화된 0으로 temp 초기화\n",
        "\n",
        "    for b in range(kernel_size):\n",
        "        for c in range(kernel_size):\n",
        "            for d in range(input_channels):\n",
        "                # 암호화된 receptive_field와 kernel의 곱셈\n",
        "                product = evaluator.multiply(receptive_field_encrypted, kernel_encrypted)\n",
        "                # 곱셈 결과를 temp에 누적\n",
        "                temp_encrypted = evaluator.add(temp_encrypted, product)\n",
        "\n",
        "    # 암호화된 bias를 temp에 더함\n",
        "    output_volume_encrypted =  evaluator.add(temp_encrypted, bias_encrypted)\n"
      ],
      "metadata": {
        "id": "QRxs3oAndS4w"
      },
      "execution_count": null,
      "outputs": []
    },
    {
      "cell_type": "code",
      "source": [
        "output_volume_encrypted"
      ],
      "metadata": {
        "id": "lmvoQcxykSXK"
      },
      "execution_count": null,
      "outputs": []
    },
    {
      "cell_type": "markdown",
      "source": [
        "#### 복호화"
      ],
      "metadata": {
        "id": "ofZJnqqVlPPu"
      }
    },
    {
      "cell_type": "code",
      "source": [
        "# 복호화 및 결과 확인\n",
        "decrypted = Plaintext()\n",
        "decryptor.decrypt(output_volume_encrypted, decrypted)\n",
        "decrypted.to_string()\n",
        "\n",
        "print(decrypted.to_string())"
      ],
      "metadata": {
        "colab": {
          "base_uri": "https://localhost:8080/"
        },
        "id": "TfYu8dQZkzTs",
        "outputId": "1d6d49a6-3e5b-4bfb-b787-3c1f01865722"
      },
      "execution_count": null,
      "outputs": [
        {
          "output_type": "stream",
          "name": "stdout",
          "text": [
            "0\n"
          ]
        }
      ]
    },
    {
      "cell_type": "code",
      "source": [
        "# 복호화 및 결과 확인\n",
        "decrypted = Plaintext()\n",
        "decryptor.decrypt(output_volume_encrypted, decrypted)\n",
        "\n",
        "\n",
        "\n",
        "\n",
        "# 결과 확인\n",
        "expected_result = 2 * 3 * 4 * 2 * 3 * 1\n",
        "if decoded_result[0] == expected_result:\n",
        "    print(f'Correct!: [Expected: {expected_result}] == [Decrypted: {decoded_result[0]}]')\n",
        "else:\n",
        "    print(f'Incorrect!: [Expected: {expected_result}] != [Decrypted: {decoded_result[0]}]')"
      ],
      "metadata": {
        "id": "Px9PUP-XlOgF"
      },
      "execution_count": null,
      "outputs": []
    }
  ]
}