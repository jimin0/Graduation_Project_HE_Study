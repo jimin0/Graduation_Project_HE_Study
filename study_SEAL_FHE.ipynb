{
  "nbformat": 4,
  "nbformat_minor": 0,
  "metadata": {
    "colab": {
      "provenance": [],
      "gpuType": "T4",
      "authorship_tag": "ABX9TyN66RvEyK5rwlwQ1BFcWhUr",
      "include_colab_link": true
    },
    "kernelspec": {
      "name": "python3",
      "display_name": "Python 3"
    },
    "language_info": {
      "name": "python"
    },
    "accelerator": "GPU"
  },
  "cells": [
    {
      "cell_type": "markdown",
      "metadata": {
        "id": "view-in-github",
        "colab_type": "text"
      },
      "source": [
        "<a href=\"https://colab.research.google.com/github/jimin0/Graduation_Project/blob/main/study_SEAL_FHE.ipynb\" target=\"_parent\"><img src=\"https://colab.research.google.com/assets/colab-badge.svg\" alt=\"Open In Colab\"/></a>"
      ]
    },
    {
      "cell_type": "markdown",
      "source": [
        "# HE Example Scenario Using SEAL Library\n",
        "\n",
        "## Installation\n",
        "### 1. Download the SEAL-Python library\n",
        "https://github.com/Huelse/SEAL-Python"
      ],
      "metadata": {
        "id": "7vez11vd_XYI"
      }
    },
    {
      "cell_type": "code",
      "source": [
        "!sudo apt-get install git build-essential cmake python3 python3-dev python3-pip"
      ],
      "metadata": {
        "colab": {
          "base_uri": "https://localhost:8080/"
        },
        "id": "-pfbiSklJ86a",
        "outputId": "6ad3a0de-7e18-4566-f59a-cbb1da72c579"
      },
      "execution_count": 1,
      "outputs": [
        {
          "output_type": "stream",
          "name": "stdout",
          "text": [
            "Reading package lists... Done\n",
            "Building dependency tree... Done\n",
            "Reading state information... Done\n",
            "build-essential is already the newest version (12.9ubuntu3).\n",
            "cmake is already the newest version (3.22.1-1ubuntu1.22.04.1).\n",
            "git is already the newest version (1:2.34.1-1ubuntu1.10).\n",
            "python3 is already the newest version (3.10.6-1~22.04).\n",
            "python3 set to manually installed.\n",
            "python3-dev is already the newest version (3.10.6-1~22.04).\n",
            "python3-dev set to manually installed.\n",
            "The following additional packages will be installed:\n",
            "  python3-setuptools python3-wheel\n",
            "Suggested packages:\n",
            "  python-setuptools-doc\n",
            "The following NEW packages will be installed:\n",
            "  python3-pip python3-setuptools python3-wheel\n",
            "0 upgraded, 3 newly installed, 0 to remove and 18 not upgraded.\n",
            "Need to get 1,677 kB of archives.\n",
            "After this operation, 8,965 kB of additional disk space will be used.\n",
            "Get:1 http://archive.ubuntu.com/ubuntu jammy-updates/main amd64 python3-setuptools all 59.6.0-1.2ubuntu0.22.04.1 [339 kB]\n",
            "Get:2 http://archive.ubuntu.com/ubuntu jammy-updates/universe amd64 python3-wheel all 0.37.1-2ubuntu0.22.04.1 [32.0 kB]\n",
            "Get:3 http://archive.ubuntu.com/ubuntu jammy-updates/universe amd64 python3-pip all 22.0.2+dfsg-1ubuntu0.3 [1,305 kB]\n",
            "Fetched 1,677 kB in 1s (1,372 kB/s)\n",
            "debconf: unable to initialize frontend: Dialog\n",
            "debconf: (No usable dialog-like program is installed, so the dialog based frontend cannot be used. at /usr/share/perl5/Debconf/FrontEnd/Dialog.pm line 78, <> line 3.)\n",
            "debconf: falling back to frontend: Readline\n",
            "debconf: unable to initialize frontend: Readline\n",
            "debconf: (This frontend requires a controlling tty.)\n",
            "debconf: falling back to frontend: Teletype\n",
            "dpkg-preconfigure: unable to re-open stdin: \n",
            "Selecting previously unselected package python3-setuptools.\n",
            "(Reading database ... 120875 files and directories currently installed.)\n",
            "Preparing to unpack .../python3-setuptools_59.6.0-1.2ubuntu0.22.04.1_all.deb ...\n",
            "Unpacking python3-setuptools (59.6.0-1.2ubuntu0.22.04.1) ...\n",
            "Selecting previously unselected package python3-wheel.\n",
            "Preparing to unpack .../python3-wheel_0.37.1-2ubuntu0.22.04.1_all.deb ...\n",
            "Unpacking python3-wheel (0.37.1-2ubuntu0.22.04.1) ...\n",
            "Selecting previously unselected package python3-pip.\n",
            "Preparing to unpack .../python3-pip_22.0.2+dfsg-1ubuntu0.3_all.deb ...\n",
            "Unpacking python3-pip (22.0.2+dfsg-1ubuntu0.3) ...\n",
            "Setting up python3-setuptools (59.6.0-1.2ubuntu0.22.04.1) ...\n",
            "Setting up python3-wheel (0.37.1-2ubuntu0.22.04.1) ...\n",
            "Setting up python3-pip (22.0.2+dfsg-1ubuntu0.3) ...\n",
            "Processing triggers for man-db (2.10.2-1) ...\n"
          ]
        }
      ]
    },
    {
      "cell_type": "code",
      "execution_count": 2,
      "metadata": {
        "colab": {
          "base_uri": "https://localhost:8080/"
        },
        "id": "0WZ3wZZL6dvE",
        "outputId": "1184c652-4d0d-451b-be3c-9bbe8826cb45"
      },
      "outputs": [
        {
          "output_type": "stream",
          "name": "stdout",
          "text": [
            "Cloning into 'SEAL-Python'...\n",
            "remote: Enumerating objects: 1628, done.\u001b[K\n",
            "remote: Counting objects: 100% (252/252), done.\u001b[K\n",
            "remote: Compressing objects: 100% (86/86), done.\u001b[K\n",
            "remote: Total 1628 (delta 175), reused 191 (delta 162), pack-reused 1376\u001b[K\n",
            "Receiving objects: 100% (1628/1628), 8.66 MiB | 18.09 MiB/s, done.\n",
            "Resolving deltas: 100% (879/879), done.\n"
          ]
        }
      ],
      "source": [
        "!git clone https://github.com/Huelse/SEAL-Python.git"
      ]
    },
    {
      "cell_type": "markdown",
      "source": [
        "### 2.Build SEAL C++ code"
      ],
      "metadata": {
        "id": "Oc7Ze-mQB4CN"
      }
    },
    {
      "cell_type": "code",
      "source": [
        "%cd /content/SEAL-Python\n",
        "!pwd\n",
        "!ls\n"
      ],
      "metadata": {
        "colab": {
          "base_uri": "https://localhost:8080/"
        },
        "id": "AX4N0tpzJeQV",
        "outputId": "718cbeb9-5f12-40a0-90e5-95326e4c049c"
      },
      "execution_count": 3,
      "outputs": [
        {
          "output_type": "stream",
          "name": "stdout",
          "text": [
            "/content/SEAL-Python\n",
            "/content/SEAL-Python\n",
            "Dockerfile  LICENSE   pyproject.toml  SEAL\tsrc\n",
            "examples    pybind11  README.md       setup.py\n"
          ]
        }
      ]
    },
    {
      "cell_type": "markdown",
      "source": [
        "의존성 설치"
      ],
      "metadata": {
        "id": "qmyKEtvaMomg"
      }
    },
    {
      "cell_type": "code",
      "source": [
        "!pip3 install numpy pybind11"
      ],
      "metadata": {
        "colab": {
          "base_uri": "https://localhost:8080/"
        },
        "id": "xUex-3ASLWIV",
        "outputId": "5da3c309-7b03-4a9f-f316-0b2bc80a827d"
      },
      "execution_count": 4,
      "outputs": [
        {
          "output_type": "stream",
          "name": "stdout",
          "text": [
            "Requirement already satisfied: numpy in /usr/local/lib/python3.10/dist-packages (1.23.5)\n",
            "Collecting pybind11\n",
            "  Downloading pybind11-2.11.1-py3-none-any.whl (227 kB)\n",
            "\u001b[2K     \u001b[90m━━━━━━━━━━━━━━━━━━━━━━━━━━━━━━━━━━━━━━━\u001b[0m \u001b[32m227.7/227.7 kB\u001b[0m \u001b[31m5.0 MB/s\u001b[0m eta \u001b[36m0:00:00\u001b[0m\n",
            "\u001b[?25hInstalling collected packages: pybind11\n",
            "Successfully installed pybind11-2.11.1\n"
          ]
        }
      ]
    },
    {
      "cell_type": "markdown",
      "source": [
        "SEAL 및 pybind11 초기화"
      ],
      "metadata": {
        "id": "-x3jXFrdMfiy"
      }
    },
    {
      "cell_type": "code",
      "source": [
        "!git submodule update --init --recursive"
      ],
      "metadata": {
        "colab": {
          "base_uri": "https://localhost:8080/"
        },
        "id": "2VXxZIcEMYAI",
        "outputId": "2bd34901-6a8e-4d63-b08b-d0d30d65f36a"
      },
      "execution_count": 5,
      "outputs": [
        {
          "output_type": "stream",
          "name": "stdout",
          "text": [
            "Submodule 'SEAL' (https://github.com/microsoft/SEAL.git) registered for path 'SEAL'\n",
            "Submodule 'pybind11' (https://github.com/pybind/pybind11.git) registered for path 'pybind11'\n",
            "Cloning into '/content/SEAL-Python/SEAL'...\n",
            "Cloning into '/content/SEAL-Python/pybind11'...\n",
            "Submodule path 'SEAL': checked out '206648d0e4634e5c61dcf9370676630268290b59'\n",
            "Submodule path 'pybind11': checked out 'be97c5a98b4b252c524566f508b5c79410d118c6'\n"
          ]
        }
      ]
    },
    {
      "cell_type": "markdown",
      "source": [
        "SEAL 라이브러리 빌드"
      ],
      "metadata": {
        "id": "dgyLZSSXM949"
      }
    },
    {
      "cell_type": "code",
      "source": [
        "%cd SEAL\n",
        "!cmake -S . -B build -DSEAL_USE_MSGSL=OFF -DSEAL_USE_ZLIB=OFF\n",
        "!cmake --build build\n",
        "%cd ..\n"
      ],
      "metadata": {
        "colab": {
          "base_uri": "https://localhost:8080/"
        },
        "id": "fLe3DrR1B8x2",
        "outputId": "20b77ed8-2c36-4764-d2df-a7873b62a195"
      },
      "execution_count": 7,
      "outputs": [
        {
          "output_type": "stream",
          "name": "stdout",
          "text": [
            "/content/SEAL-Python/SEAL\n",
            "-- Build type (CMAKE_BUILD_TYPE): Release\n",
            "-- The CXX compiler identification is GNU 11.4.0\n",
            "-- The C compiler identification is GNU 11.4.0\n",
            "-- Detecting CXX compiler ABI info\n",
            "-- Detecting CXX compiler ABI info - done\n",
            "-- Check for working CXX compiler: /usr/bin/c++ - skipped\n",
            "-- Detecting CXX compile features\n",
            "-- Detecting CXX compile features - done\n",
            "-- Detecting C compiler ABI info\n",
            "-- Detecting C compiler ABI info - done\n",
            "-- Check for working C compiler: /usr/bin/cc - skipped\n",
            "-- Detecting C compile features\n",
            "-- Detecting C compile features - done\n",
            "-- Microsoft SEAL debug mode: OFF\n",
            "-- SEAL_USE_CXX17: ON\n",
            "-- SEAL_BUILD_DEPS: ON\n",
            "-- SEAL_USE_MSGSL: OFF\n",
            "-- SEAL_USE_ZLIB: OFF\n",
            "-- SEAL_USE_ZSTD: ON\n",
            "-- Zstandard: download ...\n",
            "\u001b[0mCMake Deprecation Warning at build/thirdparty/zstd-src/build/cmake/CMakeLists.txt:10 (cmake_minimum_required):\n",
            "  Compatibility with CMake < 3.5 will be removed from a future version of\n",
            "  CMake.\n",
            "\n",
            "  Update the VERSION argument <min> value or use a ...<max> suffix to tell\n",
            "  CMake that the project does not need compatibility with older versions.\n",
            "\n",
            "\u001b[0m\n",
            "-- ZSTD VERSION: 1.5.2\n",
            "-- Performing Test CXX_FLAG_STD_CPLUSPLUS11\n",
            "-- Performing Test CXX_FLAG_STD_CPLUSPLUS11 - Success\n",
            "-- Performing Test C_FLAG_STD_C99\n",
            "-- Performing Test C_FLAG_STD_C99 - Success\n",
            "-- Performing Test C_FLAG_WALL\n",
            "-- Performing Test C_FLAG_WALL - Success\n",
            "-- Performing Test CXX_FLAG_WALL\n",
            "-- Performing Test CXX_FLAG_WALL - Success\n",
            "-- Performing Test C_FLAG_WEXTRA\n",
            "-- Performing Test C_FLAG_WEXTRA - Success\n",
            "-- Performing Test CXX_FLAG_WEXTRA\n",
            "-- Performing Test CXX_FLAG_WEXTRA - Success\n",
            "-- Performing Test C_FLAG_WUNDEF\n",
            "-- Performing Test C_FLAG_WUNDEF - Success\n",
            "-- Performing Test CXX_FLAG_WUNDEF\n",
            "-- Performing Test CXX_FLAG_WUNDEF - Success\n",
            "-- Performing Test C_FLAG_WSHADOW\n",
            "-- Performing Test C_FLAG_WSHADOW - Success\n",
            "-- Performing Test CXX_FLAG_WSHADOW\n",
            "-- Performing Test CXX_FLAG_WSHADOW - Success\n",
            "-- Performing Test C_FLAG_WCAST_ALIGN\n",
            "-- Performing Test C_FLAG_WCAST_ALIGN - Success\n",
            "-- Performing Test CXX_FLAG_WCAST_ALIGN\n",
            "-- Performing Test CXX_FLAG_WCAST_ALIGN - Success\n",
            "-- Performing Test C_FLAG_WCAST_QUAL\n",
            "-- Performing Test C_FLAG_WCAST_QUAL - Success\n",
            "-- Performing Test CXX_FLAG_WCAST_QUAL\n",
            "-- Performing Test CXX_FLAG_WCAST_QUAL - Success\n",
            "-- Performing Test C_FLAG_WSTRICT_PROTOTYPES\n",
            "-- Performing Test C_FLAG_WSTRICT_PROTOTYPES - Success\n",
            "-- CMAKE_INSTALL_PREFIX: /usr/local\n",
            "-- CMAKE_INSTALL_LIBDIR: lib\n",
            "-- ZSTD_LEGACY_SUPPORT not defined!\n",
            "-- ZSTD_MULTITHREAD_SUPPORT is disabled\n",
            "-- The ASM compiler identification is GNU\n",
            "-- Found assembler: /usr/bin/cc\n",
            "-- SEAL_USE_INTEL_HEXL: OFF\n",
            "-- BUILD_SHARED_LIBS: OFF\n",
            "-- SEAL_THROW_ON_TRANSPARENT_CIPHERTEXT: ON\n",
            "-- SEAL_USE_GAUSSIAN_NOISE: OFF\n",
            "-- SEAL_DEFAULT_PRNG: Blake2xb\n",
            "-- SEAL_AVOID_BRANCHING: OFF\n",
            "-- x86intrin.h - found\n",
            "-- SEAL_USE_INTRIN: ON\n",
            "-- Performing Test SEAL_MEMSET_S_FOUND\n",
            "-- Performing Test SEAL_MEMSET_S_FOUND - Failed\n",
            "-- Looking for explicit_bzero\n",
            "-- Looking for explicit_bzero - found\n",
            "-- Looking for explicit_memset\n",
            "-- Looking for explicit_memset - not found\n",
            "-- SEAL_USE_MEMSET_S: OFF\n",
            "-- SEAL_USE_EXPLICIT_BZERO: ON\n",
            "-- SEAL_USE_EXPLICIT_MEMSET: OFF\n",
            "-- Performing Test CMAKE_HAVE_LIBC_PTHREAD\n",
            "-- Performing Test CMAKE_HAVE_LIBC_PTHREAD - Success\n",
            "-- Found Threads: TRUE  \n",
            "-- SEAL_BUILD_SEAL_C: OFF\n",
            "-- SEAL_BUILD_EXAMPLES: OFF\n",
            "-- SEAL_BUILD_TESTS: OFF\n",
            "-- SEAL_BUILD_BENCH: OFF\n",
            "-- Configuring done (11.9s)\n",
            "-- Generating done (0.0s)\n",
            "-- Build files have been written to: /content/SEAL-Python/SEAL/build\n",
            "[  1%] \u001b[32mBuilding C object thirdparty/zstd-build/lib/CMakeFiles/libzstd_static.dir/__/__/__/lib/common/debug.c.o\u001b[0m\n",
            "[  2%] \u001b[32mBuilding C object thirdparty/zstd-build/lib/CMakeFiles/libzstd_static.dir/__/__/__/lib/common/entropy_common.c.o\u001b[0m\n",
            "[  4%] \u001b[32mBuilding C object thirdparty/zstd-build/lib/CMakeFiles/libzstd_static.dir/__/__/__/lib/common/error_private.c.o\u001b[0m\n",
            "[  5%] \u001b[32mBuilding C object thirdparty/zstd-build/lib/CMakeFiles/libzstd_static.dir/__/__/__/lib/common/fse_decompress.c.o\u001b[0m\n",
            "[  7%] \u001b[32mBuilding C object thirdparty/zstd-build/lib/CMakeFiles/libzstd_static.dir/__/__/__/lib/common/pool.c.o\u001b[0m\n",
            "[  8%] \u001b[32mBuilding C object thirdparty/zstd-build/lib/CMakeFiles/libzstd_static.dir/__/__/__/lib/common/threading.c.o\u001b[0m\n",
            "[  9%] \u001b[32mBuilding C object thirdparty/zstd-build/lib/CMakeFiles/libzstd_static.dir/__/__/__/lib/common/xxhash.c.o\u001b[0m\n",
            "[ 11%] \u001b[32mBuilding C object thirdparty/zstd-build/lib/CMakeFiles/libzstd_static.dir/__/__/__/lib/common/zstd_common.c.o\u001b[0m\n",
            "[ 12%] \u001b[32mBuilding C object thirdparty/zstd-build/lib/CMakeFiles/libzstd_static.dir/__/__/__/lib/compress/fse_compress.c.o\u001b[0m\n",
            "[ 14%] \u001b[32mBuilding C object thirdparty/zstd-build/lib/CMakeFiles/libzstd_static.dir/__/__/__/lib/compress/hist.c.o\u001b[0m\n",
            "[ 15%] \u001b[32mBuilding C object thirdparty/zstd-build/lib/CMakeFiles/libzstd_static.dir/__/__/__/lib/compress/huf_compress.c.o\u001b[0m\n",
            "[ 16%] \u001b[32mBuilding C object thirdparty/zstd-build/lib/CMakeFiles/libzstd_static.dir/__/__/__/lib/compress/zstd_compress.c.o\u001b[0m\n",
            "[ 18%] \u001b[32mBuilding C object thirdparty/zstd-build/lib/CMakeFiles/libzstd_static.dir/__/__/__/lib/compress/zstd_compress_literals.c.o\u001b[0m\n",
            "[ 19%] \u001b[32mBuilding C object thirdparty/zstd-build/lib/CMakeFiles/libzstd_static.dir/__/__/__/lib/compress/zstd_compress_sequences.c.o\u001b[0m\n",
            "[ 21%] \u001b[32mBuilding C object thirdparty/zstd-build/lib/CMakeFiles/libzstd_static.dir/__/__/__/lib/compress/zstd_compress_superblock.c.o\u001b[0m\n",
            "[ 22%] \u001b[32mBuilding C object thirdparty/zstd-build/lib/CMakeFiles/libzstd_static.dir/__/__/__/lib/compress/zstd_double_fast.c.o\u001b[0m\n",
            "[ 23%] \u001b[32mBuilding C object thirdparty/zstd-build/lib/CMakeFiles/libzstd_static.dir/__/__/__/lib/compress/zstd_fast.c.o\u001b[0m\n",
            "[ 25%] \u001b[32mBuilding C object thirdparty/zstd-build/lib/CMakeFiles/libzstd_static.dir/__/__/__/lib/compress/zstd_lazy.c.o\u001b[0m\n",
            "[ 26%] \u001b[32mBuilding C object thirdparty/zstd-build/lib/CMakeFiles/libzstd_static.dir/__/__/__/lib/compress/zstd_ldm.c.o\u001b[0m\n",
            "[ 28%] \u001b[32mBuilding C object thirdparty/zstd-build/lib/CMakeFiles/libzstd_static.dir/__/__/__/lib/compress/zstd_opt.c.o\u001b[0m\n",
            "[ 29%] \u001b[32mBuilding C object thirdparty/zstd-build/lib/CMakeFiles/libzstd_static.dir/__/__/__/lib/compress/zstdmt_compress.c.o\u001b[0m\n",
            "[ 30%] \u001b[32mBuilding C object thirdparty/zstd-build/lib/CMakeFiles/libzstd_static.dir/__/__/__/lib/decompress/huf_decompress.c.o\u001b[0m\n",
            "[ 32%] \u001b[32mBuilding ASM object thirdparty/zstd-build/lib/CMakeFiles/libzstd_static.dir/__/__/__/lib/decompress/huf_decompress_amd64.S.o\u001b[0m\n",
            "[ 33%] \u001b[32mBuilding C object thirdparty/zstd-build/lib/CMakeFiles/libzstd_static.dir/__/__/__/lib/decompress/zstd_ddict.c.o\u001b[0m\n",
            "[ 35%] \u001b[32mBuilding C object thirdparty/zstd-build/lib/CMakeFiles/libzstd_static.dir/__/__/__/lib/decompress/zstd_decompress.c.o\u001b[0m\n",
            "[ 36%] \u001b[32mBuilding C object thirdparty/zstd-build/lib/CMakeFiles/libzstd_static.dir/__/__/__/lib/decompress/zstd_decompress_block.c.o\u001b[0m\n",
            "[ 38%] \u001b[32mBuilding C object thirdparty/zstd-build/lib/CMakeFiles/libzstd_static.dir/__/__/__/lib/dictBuilder/cover.c.o\u001b[0m\n",
            "[ 39%] \u001b[32mBuilding C object thirdparty/zstd-build/lib/CMakeFiles/libzstd_static.dir/__/__/__/lib/dictBuilder/divsufsort.c.o\u001b[0m\n",
            "[ 40%] \u001b[32mBuilding C object thirdparty/zstd-build/lib/CMakeFiles/libzstd_static.dir/__/__/__/lib/dictBuilder/fastcover.c.o\u001b[0m\n",
            "[ 42%] \u001b[32mBuilding C object thirdparty/zstd-build/lib/CMakeFiles/libzstd_static.dir/__/__/__/lib/dictBuilder/zdict.c.o\u001b[0m\n",
            "[ 43%] \u001b[32m\u001b[1mLinking C static library ../../../lib/libzstd.a\u001b[0m\n",
            "[ 43%] Built target libzstd_static\n",
            "[ 45%] \u001b[32mBuilding CXX object CMakeFiles/seal.dir/native/src/seal/batchencoder.cpp.o\u001b[0m\n",
            "[ 46%] \u001b[32mBuilding CXX object CMakeFiles/seal.dir/native/src/seal/ciphertext.cpp.o\u001b[0m\n",
            "[ 47%] \u001b[32mBuilding CXX object CMakeFiles/seal.dir/native/src/seal/ckks.cpp.o\u001b[0m\n",
            "[ 49%] \u001b[32mBuilding CXX object CMakeFiles/seal.dir/native/src/seal/context.cpp.o\u001b[0m\n",
            "[ 50%] \u001b[32mBuilding CXX object CMakeFiles/seal.dir/native/src/seal/decryptor.cpp.o\u001b[0m\n",
            "[ 52%] \u001b[32mBuilding CXX object CMakeFiles/seal.dir/native/src/seal/encryptionparams.cpp.o\u001b[0m\n",
            "[ 53%] \u001b[32mBuilding CXX object CMakeFiles/seal.dir/native/src/seal/encryptor.cpp.o\u001b[0m\n",
            "[ 54%] \u001b[32mBuilding CXX object CMakeFiles/seal.dir/native/src/seal/evaluator.cpp.o\u001b[0m\n",
            "[ 56%] \u001b[32mBuilding CXX object CMakeFiles/seal.dir/native/src/seal/keygenerator.cpp.o\u001b[0m\n",
            "[ 57%] \u001b[32mBuilding CXX object CMakeFiles/seal.dir/native/src/seal/kswitchkeys.cpp.o\u001b[0m\n",
            "[ 59%] \u001b[32mBuilding CXX object CMakeFiles/seal.dir/native/src/seal/memorymanager.cpp.o\u001b[0m\n",
            "[ 60%] \u001b[32mBuilding CXX object CMakeFiles/seal.dir/native/src/seal/modulus.cpp.o\u001b[0m\n",
            "[ 61%] \u001b[32mBuilding CXX object CMakeFiles/seal.dir/native/src/seal/plaintext.cpp.o\u001b[0m\n",
            "[ 63%] \u001b[32mBuilding CXX object CMakeFiles/seal.dir/native/src/seal/randomgen.cpp.o\u001b[0m\n",
            "[ 64%] \u001b[32mBuilding CXX object CMakeFiles/seal.dir/native/src/seal/serialization.cpp.o\u001b[0m\n",
            "[ 66%] \u001b[32mBuilding CXX object CMakeFiles/seal.dir/native/src/seal/valcheck.cpp.o\u001b[0m\n",
            "[ 67%] \u001b[32mBuilding C object CMakeFiles/seal.dir/native/src/seal/util/blake2b.c.o\u001b[0m\n",
            "[ 69%] \u001b[32mBuilding C object CMakeFiles/seal.dir/native/src/seal/util/blake2xb.c.o\u001b[0m\n",
            "[ 70%] \u001b[32mBuilding CXX object CMakeFiles/seal.dir/native/src/seal/util/clipnormal.cpp.o\u001b[0m\n",
            "[ 71%] \u001b[32mBuilding CXX object CMakeFiles/seal.dir/native/src/seal/util/common.cpp.o\u001b[0m\n",
            "[ 73%] \u001b[32mBuilding CXX object CMakeFiles/seal.dir/native/src/seal/util/croots.cpp.o\u001b[0m\n",
            "[ 74%] \u001b[32mBuilding C object CMakeFiles/seal.dir/native/src/seal/util/fips202.c.o\u001b[0m\n",
            "[ 76%] \u001b[32mBuilding CXX object CMakeFiles/seal.dir/native/src/seal/util/globals.cpp.o\u001b[0m\n",
            "[ 77%] \u001b[32mBuilding CXX object CMakeFiles/seal.dir/native/src/seal/util/galois.cpp.o\u001b[0m\n",
            "[ 78%] \u001b[32mBuilding CXX object CMakeFiles/seal.dir/native/src/seal/util/hash.cpp.o\u001b[0m\n",
            "[ 80%] \u001b[32mBuilding CXX object CMakeFiles/seal.dir/native/src/seal/util/iterator.cpp.o\u001b[0m\n",
            "[ 81%] \u001b[32mBuilding CXX object CMakeFiles/seal.dir/native/src/seal/util/mempool.cpp.o\u001b[0m\n",
            "[ 83%] \u001b[32mBuilding CXX object CMakeFiles/seal.dir/native/src/seal/util/numth.cpp.o\u001b[0m\n",
            "[ 84%] \u001b[32mBuilding CXX object CMakeFiles/seal.dir/native/src/seal/util/polyarithsmallmod.cpp.o\u001b[0m\n",
            "[ 85%] \u001b[32mBuilding CXX object CMakeFiles/seal.dir/native/src/seal/util/rlwe.cpp.o\u001b[0m\n",
            "[ 87%] \u001b[32mBuilding CXX object CMakeFiles/seal.dir/native/src/seal/util/rns.cpp.o\u001b[0m\n",
            "[ 88%] \u001b[32mBuilding CXX object CMakeFiles/seal.dir/native/src/seal/util/scalingvariant.cpp.o\u001b[0m\n",
            "[ 90%] \u001b[32mBuilding CXX object CMakeFiles/seal.dir/native/src/seal/util/ntt.cpp.o\u001b[0m\n",
            "[ 91%] \u001b[32mBuilding CXX object CMakeFiles/seal.dir/native/src/seal/util/streambuf.cpp.o\u001b[0m\n",
            "[ 92%] \u001b[32mBuilding CXX object CMakeFiles/seal.dir/native/src/seal/util/uintarith.cpp.o\u001b[0m\n",
            "[ 94%] \u001b[32mBuilding CXX object CMakeFiles/seal.dir/native/src/seal/util/uintarithmod.cpp.o\u001b[0m\n",
            "[ 95%] \u001b[32mBuilding CXX object CMakeFiles/seal.dir/native/src/seal/util/uintarithsmallmod.cpp.o\u001b[0m\n",
            "[ 97%] \u001b[32mBuilding CXX object CMakeFiles/seal.dir/native/src/seal/util/uintcore.cpp.o\u001b[0m\n",
            "[ 98%] \u001b[32mBuilding CXX object CMakeFiles/seal.dir/native/src/seal/util/ztools.cpp.o\u001b[0m\n",
            "[100%] \u001b[32m\u001b[1mLinking CXX static library lib/libseal-4.1.a\u001b[0m\n",
            "[100%] Built target seal\n",
            "/content/SEAL-Python\n"
          ]
        }
      ]
    },
    {
      "cell_type": "markdown",
      "source": [
        "### 3.Build SEAL-Python\n",
        "'setup.py' 실행"
      ],
      "metadata": {
        "id": "6pNWYJAmRn8P"
      }
    },
    {
      "cell_type": "code",
      "source": [
        "!python3 setup.py build_ext -i"
      ],
      "metadata": {
        "colab": {
          "base_uri": "https://localhost:8080/"
        },
        "id": "g-U9dOZgRt0w",
        "outputId": "c4c8cda6-64e8-41ce-9208-0b2565812ef8"
      },
      "execution_count": 9,
      "outputs": [
        {
          "output_type": "stream",
          "name": "stdout",
          "text": [
            "running build_ext\n",
            "x86_64-linux-gnu-gcc -Wno-unused-result -Wsign-compare -DNDEBUG -g -fwrapv -O2 -Wall -g -fstack-protector-strong -Wformat -Werror=format-security -g -fwrapv -O2 -fPIC -I/usr/include/python3.10 -c flagcheck.cpp -o flagcheck.o -std=c++17\n",
            "building 'seal' extension\n",
            "creating build\n",
            "creating build/temp.linux-x86_64-cpython-310\n",
            "creating build/temp.linux-x86_64-cpython-310/src\n",
            "x86_64-linux-gnu-gcc -Wno-unused-result -Wsign-compare -DNDEBUG -g -fwrapv -O2 -Wall -g -fstack-protector-strong -Wformat -Werror=format-security -g -fwrapv -O2 -fPIC -DVERSION_INFO=4.0.0 -I/usr/include/python3.10 -Ipybind11/include -ISEAL/native/src -ISEAL/build/native/src -I/usr/local/lib/python3.10/dist-packages/pybind11/include -I/usr/include/python3.10 -c src/wrapper.cpp -o build/temp.linux-x86_64-cpython-310/src/wrapper.o -std=c++17 -fvisibility=hidden -g0 -std=c++17\n",
            "creating build/lib.linux-x86_64-cpython-310\n",
            "x86_64-linux-gnu-g++ -shared -Wl,-O1 -Wl,-Bsymbolic-functions -Wl,-Bsymbolic-functions -g -fwrapv -O2 build/temp.linux-x86_64-cpython-310/src/wrapper.o SEAL/build/lib/libseal-4.1.a SEAL/build/lib/libzstd.a -L/usr/lib/x86_64-linux-gnu -o build/lib.linux-x86_64-cpython-310/seal.cpython-310-x86_64-linux-gnu.so\n",
            "copying build/lib.linux-x86_64-cpython-310/seal.cpython-310-x86_64-linux-gnu.so -> \n"
          ]
        }
      ]
    },
    {
      "cell_type": "markdown",
      "source": [
        "### Install SEAL-Python"
      ],
      "metadata": {
        "id": "ka6tpc09Q_EW"
      }
    },
    {
      "cell_type": "code",
      "source": [
        "!python3 setup.py install"
      ],
      "metadata": {
        "colab": {
          "base_uri": "https://localhost:8080/"
        },
        "id": "NCDiXbyPRS-M",
        "outputId": "040e3b9b-5ed6-4093-ed36-d6eec1fce079"
      },
      "execution_count": 10,
      "outputs": [
        {
          "output_type": "stream",
          "name": "stdout",
          "text": [
            "running install\n",
            "/usr/local/lib/python3.10/dist-packages/setuptools/_distutils/cmd.py:66: SetuptoolsDeprecationWarning: setup.py install is deprecated.\n",
            "!!\n",
            "\n",
            "        ********************************************************************************\n",
            "        Please avoid running ``setup.py`` directly.\n",
            "        Instead, use pypa/build, pypa/installer, pypa/build or\n",
            "        other standards-based tools.\n",
            "\n",
            "        See https://blog.ganssle.io/articles/2021/10/setup-py-deprecated.html for details.\n",
            "        ********************************************************************************\n",
            "\n",
            "!!\n",
            "  self.initialize_options()\n",
            "/usr/local/lib/python3.10/dist-packages/setuptools/_distutils/cmd.py:66: EasyInstallDeprecationWarning: easy_install command is deprecated.\n",
            "!!\n",
            "\n",
            "        ********************************************************************************\n",
            "        Please avoid running ``setup.py`` and ``easy_install``.\n",
            "        Instead, use pypa/build, pypa/installer, pypa/build or\n",
            "        other standards-based tools.\n",
            "\n",
            "        See https://github.com/pypa/setuptools/issues/917 for details.\n",
            "        ********************************************************************************\n",
            "\n",
            "!!\n",
            "  self.initialize_options()\n",
            "running bdist_egg\n",
            "running egg_info\n",
            "creating seal.egg-info\n",
            "writing seal.egg-info/PKG-INFO\n",
            "writing dependency_links to seal.egg-info/dependency_links.txt\n",
            "writing top-level names to seal.egg-info/top_level.txt\n",
            "writing manifest file 'seal.egg-info/SOURCES.txt'\n",
            "reading manifest file 'seal.egg-info/SOURCES.txt'\n",
            "adding license file 'LICENSE'\n",
            "writing manifest file 'seal.egg-info/SOURCES.txt'\n",
            "installing library code to build/bdist.linux-x86_64/egg\n",
            "running install_lib\n",
            "running build_ext\n",
            "x86_64-linux-gnu-gcc -Wno-unused-result -Wsign-compare -DNDEBUG -g -fwrapv -O2 -Wall -g -fstack-protector-strong -Wformat -Werror=format-security -g -fwrapv -O2 -fPIC -I/usr/include/python3.10 -c flagcheck.cpp -o flagcheck.o -std=c++17\n",
            "creating build/bdist.linux-x86_64\n",
            "creating build/bdist.linux-x86_64/egg\n",
            "copying build/lib.linux-x86_64-cpython-310/seal.cpython-310-x86_64-linux-gnu.so -> build/bdist.linux-x86_64/egg\n",
            "creating stub loader for seal.cpython-310-x86_64-linux-gnu.so\n",
            "byte-compiling build/bdist.linux-x86_64/egg/seal.py to seal.cpython-310.pyc\n",
            "creating build/bdist.linux-x86_64/egg/EGG-INFO\n",
            "copying seal.egg-info/PKG-INFO -> build/bdist.linux-x86_64/egg/EGG-INFO\n",
            "copying seal.egg-info/SOURCES.txt -> build/bdist.linux-x86_64/egg/EGG-INFO\n",
            "copying seal.egg-info/dependency_links.txt -> build/bdist.linux-x86_64/egg/EGG-INFO\n",
            "copying seal.egg-info/not-zip-safe -> build/bdist.linux-x86_64/egg/EGG-INFO\n",
            "copying seal.egg-info/top_level.txt -> build/bdist.linux-x86_64/egg/EGG-INFO\n",
            "writing build/bdist.linux-x86_64/egg/EGG-INFO/native_libs.txt\n",
            "creating dist\n",
            "creating 'dist/seal-4.0.0-py3.10-linux-x86_64.egg' and adding 'build/bdist.linux-x86_64/egg' to it\n",
            "removing 'build/bdist.linux-x86_64/egg' (and everything under it)\n",
            "Processing seal-4.0.0-py3.10-linux-x86_64.egg\n",
            "creating /usr/local/lib/python3.10/dist-packages/seal-4.0.0-py3.10-linux-x86_64.egg\n",
            "Extracting seal-4.0.0-py3.10-linux-x86_64.egg to /usr/local/lib/python3.10/dist-packages\n",
            "Adding seal 4.0.0 to easy-install.pth file\n",
            "\n",
            "Installed /usr/local/lib/python3.10/dist-packages/seal-4.0.0-py3.10-linux-x86_64.egg\n",
            "Processing dependencies for seal==4.0.0\n",
            "Finished processing dependencies for seal==4.0.0\n"
          ]
        }
      ]
    },
    {
      "cell_type": "markdown",
      "source": [
        "### Test"
      ],
      "metadata": {
        "id": "JKSw2hiwSYl9"
      }
    },
    {
      "cell_type": "code",
      "source": [
        "!cp seal.*.so examples\n",
        "%cd examples\n",
        "!python3 4_bgv_basics.py"
      ],
      "metadata": {
        "colab": {
          "base_uri": "https://localhost:8080/"
        },
        "id": "mtrES6dYSPW8",
        "outputId": "c5e27382-96d0-4010-d250-a6470d621703"
      },
      "execution_count": 11,
      "outputs": [
        {
          "output_type": "stream",
          "name": "stdout",
          "text": [
            "/content/SEAL-Python/examples\n",
            "Plaintext matrix row size: 4096.0\n",
            "noise budget in freshly encrypted x: 146\n",
            "--------------------------------------------------\n",
            "size of x_squared: 3\n",
            "size of x_squared (after relinearization): 2\n",
            "noise budget in x_squared: 109 bits\n",
            "[ 1, 4, 9, 16, 0, 0, 0, 0, ... ]\n",
            "--------------------------------------------------\n",
            "size of x_4th: 3\n",
            "size of x_4th (after relinearization): 2\n",
            "noise budget in x_4th: 34 bits\n",
            "[ 1, 16, 81, 256, 0, 0, 0, 0, ... ]\n",
            "--------------------------------------------------\n",
            "size of x_8th: 3\n",
            "size of x_8th (after relinearization): 2\n",
            "noise budget in x_8th: 0 bits\n",
            "[ -314301, 155637, 92492, 450409, 355491, -402527, -102331, -336193, ... ]\n",
            "run out of noise budget\n",
            "----------------------------------------------------------------------------------------------------\n",
            "noise budget in freshly encrypted x: 145\n",
            "--------------------------------------------------\n",
            "size of x_squared: 3\n",
            "noise budget in x_squared (with modulus switching): 101 bits\n",
            "[ 1, 4, 9, 16, 0, 0, 0, 0, ... ]\n",
            "--------------------------------------------------\n",
            "size of x_4th: 3\n",
            "size of x_4th (after relinearization): 2\n",
            "noise budget in x_4th (with modulus switching): 57 bits\n",
            "[ 1, 16, 81, 256, 0, 0, 0, 0, ... ]\n",
            "--------------------------------------------------\n",
            "size of x_8th: 3\n",
            "size of x_8th (after relinearization): 2\n",
            "noise budget in x_8th (with modulus switching): 14 bits\n",
            "[ 1, 256, 6561, 65536, 0, 0, 0, 0, ... ]\n"
          ]
        }
      ]
    },
    {
      "cell_type": "code",
      "source": [],
      "metadata": {
        "id": "-g_3bGw4SbWo"
      },
      "execution_count": null,
      "outputs": []
    }
  ]
}