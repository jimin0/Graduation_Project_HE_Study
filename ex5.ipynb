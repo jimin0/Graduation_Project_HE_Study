{
  "cells": [
    {
      "cell_type": "markdown",
      "metadata": {
        "id": "view-in-github",
        "colab_type": "text"
      },
      "source": [
        "<a href=\"https://colab.research.google.com/github/jimin0/Graduation_Project_HE_Study/blob/main/ex5.ipynb\" target=\"_parent\"><img src=\"https://colab.research.google.com/assets/colab-badge.svg\" alt=\"Open In Colab\"/></a>"
      ]
    },
    {
      "cell_type": "markdown",
      "metadata": {
        "id": "o4KycpIVnxYO"
      },
      "source": [
        "# 졸업작품\n",
        ">SEAL-Python 정리\n",
        "\n",
        "[TODO]\n",
        "\n",
        "\n",
        "1.   암호문 type 확인\n",
        "2.   암호문 + 암호문\n",
        "3.   암호문 + 비암호문\n",
        "4.   암호문 * 암호문\n",
        "5.   암호문 * 비암호문\n",
        "6.   복호화\n",
        "7.   재선형화?\n"
      ]
    },
    {
      "cell_type": "markdown",
      "metadata": {
        "id": "k3-mj7PWn_r4"
      },
      "source": [
        "## 환경설정"
      ]
    },
    {
      "cell_type": "code",
      "execution_count": 4,
      "metadata": {
        "colab": {
          "base_uri": "https://localhost:8080/"
        },
        "id": "eJe55KlIl6B9",
        "outputId": "879b9d17-0680-422f-ed99-6467935321a5"
      },
      "outputs": [
        {
          "output_type": "stream",
          "name": "stdout",
          "text": [
            "Cloning into 'SEAL-Python'...\n",
            "remote: Enumerating objects: 1628, done.\u001b[K\n",
            "remote: Counting objects: 100% (252/252), done.\u001b[K\n",
            "remote: Compressing objects: 100% (86/86), done.\u001b[K\n",
            "remote: Total 1628 (delta 175), reused 191 (delta 162), pack-reused 1376\u001b[K\n",
            "Receiving objects: 100% (1628/1628), 8.66 MiB | 13.25 MiB/s, done.\n",
            "Resolving deltas: 100% (879/879), done.\n",
            "/content/SEAL-Python/SEAL-Python\n",
            "Requirement already satisfied: numpy in /usr/local/lib/python3.10/dist-packages (1.23.5)\n",
            "Requirement already satisfied: pybind11 in /usr/local/lib/python3.10/dist-packages (2.11.1)\n",
            "Submodule 'SEAL' (https://github.com/microsoft/SEAL.git) registered for path 'SEAL'\n",
            "Submodule 'pybind11' (https://github.com/pybind/pybind11.git) registered for path 'pybind11'\n",
            "Cloning into '/content/SEAL-Python/SEAL-Python/SEAL'...\n",
            "Cloning into '/content/SEAL-Python/SEAL-Python/pybind11'...\n",
            "Submodule path 'SEAL': checked out '206648d0e4634e5c61dcf9370676630268290b59'\n",
            "Submodule path 'pybind11': checked out 'be97c5a98b4b252c524566f508b5c79410d118c6'\n",
            "/content/SEAL-Python/SEAL-Python/SEAL\n",
            "-- Build type (CMAKE_BUILD_TYPE): Release\n",
            "-- The CXX compiler identification is GNU 11.4.0\n",
            "-- The C compiler identification is GNU 11.4.0\n",
            "-- Detecting CXX compiler ABI info\n",
            "-- Detecting CXX compiler ABI info - done\n",
            "-- Check for working CXX compiler: /usr/bin/c++ - skipped\n",
            "-- Detecting CXX compile features\n",
            "-- Detecting CXX compile features - done\n",
            "-- Detecting C compiler ABI info\n",
            "-- Detecting C compiler ABI info - done\n",
            "-- Check for working C compiler: /usr/bin/cc - skipped\n",
            "-- Detecting C compile features\n",
            "-- Detecting C compile features - done\n",
            "-- Microsoft SEAL debug mode: OFF\n",
            "-- SEAL_USE_CXX17: ON\n",
            "-- SEAL_BUILD_DEPS: ON\n",
            "-- SEAL_USE_MSGSL: OFF\n",
            "-- SEAL_USE_ZLIB: OFF\n",
            "-- SEAL_USE_ZSTD: ON\n",
            "-- Zstandard: download ...\n",
            "\u001b[0mCMake Deprecation Warning at build/thirdparty/zstd-src/build/cmake/CMakeLists.txt:10 (cmake_minimum_required):\n",
            "  Compatibility with CMake < 3.5 will be removed from a future version of\n",
            "  CMake.\n",
            "\n",
            "  Update the VERSION argument <min> value or use a ...<max> suffix to tell\n",
            "  CMake that the project does not need compatibility with older versions.\n",
            "\n",
            "\u001b[0m\n",
            "-- ZSTD VERSION: 1.5.2\n",
            "-- Performing Test CXX_FLAG_STD_CPLUSPLUS11\n",
            "-- Performing Test CXX_FLAG_STD_CPLUSPLUS11 - Success\n",
            "-- Performing Test C_FLAG_STD_C99\n",
            "-- Performing Test C_FLAG_STD_C99 - Success\n",
            "-- Performing Test C_FLAG_WALL\n",
            "-- Performing Test C_FLAG_WALL - Success\n",
            "-- Performing Test CXX_FLAG_WALL\n",
            "-- Performing Test CXX_FLAG_WALL - Success\n",
            "-- Performing Test C_FLAG_WEXTRA\n",
            "-- Performing Test C_FLAG_WEXTRA - Success\n",
            "-- Performing Test CXX_FLAG_WEXTRA\n",
            "-- Performing Test CXX_FLAG_WEXTRA - Success\n",
            "-- Performing Test C_FLAG_WUNDEF\n",
            "-- Performing Test C_FLAG_WUNDEF - Success\n",
            "-- Performing Test CXX_FLAG_WUNDEF\n",
            "-- Performing Test CXX_FLAG_WUNDEF - Success\n",
            "-- Performing Test C_FLAG_WSHADOW\n",
            "-- Performing Test C_FLAG_WSHADOW - Success\n",
            "-- Performing Test CXX_FLAG_WSHADOW\n",
            "-- Performing Test CXX_FLAG_WSHADOW - Success\n",
            "-- Performing Test C_FLAG_WCAST_ALIGN\n",
            "-- Performing Test C_FLAG_WCAST_ALIGN - Success\n",
            "-- Performing Test CXX_FLAG_WCAST_ALIGN\n",
            "-- Performing Test CXX_FLAG_WCAST_ALIGN - Success\n",
            "-- Performing Test C_FLAG_WCAST_QUAL\n",
            "-- Performing Test C_FLAG_WCAST_QUAL - Success\n",
            "-- Performing Test CXX_FLAG_WCAST_QUAL\n",
            "-- Performing Test CXX_FLAG_WCAST_QUAL - Success\n",
            "-- Performing Test C_FLAG_WSTRICT_PROTOTYPES\n",
            "-- Performing Test C_FLAG_WSTRICT_PROTOTYPES - Success\n",
            "-- CMAKE_INSTALL_PREFIX: /usr/local\n",
            "-- CMAKE_INSTALL_LIBDIR: lib\n",
            "-- ZSTD_LEGACY_SUPPORT not defined!\n",
            "-- ZSTD_MULTITHREAD_SUPPORT is disabled\n",
            "-- The ASM compiler identification is GNU\n",
            "-- Found assembler: /usr/bin/cc\n",
            "-- SEAL_USE_INTEL_HEXL: OFF\n",
            "-- BUILD_SHARED_LIBS: OFF\n",
            "-- SEAL_THROW_ON_TRANSPARENT_CIPHERTEXT: ON\n",
            "-- SEAL_USE_GAUSSIAN_NOISE: OFF\n",
            "-- SEAL_DEFAULT_PRNG: Blake2xb\n",
            "-- SEAL_AVOID_BRANCHING: OFF\n",
            "-- x86intrin.h - found\n",
            "-- SEAL_USE_INTRIN: ON\n",
            "-- Performing Test SEAL_MEMSET_S_FOUND\n",
            "-- Performing Test SEAL_MEMSET_S_FOUND - Failed\n",
            "-- Looking for explicit_bzero\n",
            "-- Looking for explicit_bzero - found\n",
            "-- Looking for explicit_memset\n",
            "-- Looking for explicit_memset - not found\n",
            "-- SEAL_USE_MEMSET_S: OFF\n",
            "-- SEAL_USE_EXPLICIT_BZERO: ON\n",
            "-- SEAL_USE_EXPLICIT_MEMSET: OFF\n",
            "-- Performing Test CMAKE_HAVE_LIBC_PTHREAD\n",
            "-- Performing Test CMAKE_HAVE_LIBC_PTHREAD - Success\n",
            "-- Found Threads: TRUE  \n",
            "-- SEAL_BUILD_SEAL_C: OFF\n",
            "-- SEAL_BUILD_EXAMPLES: OFF\n",
            "-- SEAL_BUILD_TESTS: OFF\n",
            "-- SEAL_BUILD_BENCH: OFF\n",
            "-- Configuring done (16.7s)\n",
            "-- Generating done (0.0s)\n",
            "-- Build files have been written to: /content/SEAL-Python/SEAL-Python/SEAL/build\n",
            "[  1%] \u001b[32mBuilding C object thirdparty/zstd-build/lib/CMakeFiles/libzstd_static.dir/__/__/__/lib/common/debug.c.o\u001b[0m\n",
            "[  2%] \u001b[32mBuilding C object thirdparty/zstd-build/lib/CMakeFiles/libzstd_static.dir/__/__/__/lib/common/entropy_common.c.o\u001b[0m\n",
            "[  4%] \u001b[32mBuilding C object thirdparty/zstd-build/lib/CMakeFiles/libzstd_static.dir/__/__/__/lib/common/error_private.c.o\u001b[0m\n",
            "[  5%] \u001b[32mBuilding C object thirdparty/zstd-build/lib/CMakeFiles/libzstd_static.dir/__/__/__/lib/common/fse_decompress.c.o\u001b[0m\n",
            "[  7%] \u001b[32mBuilding C object thirdparty/zstd-build/lib/CMakeFiles/libzstd_static.dir/__/__/__/lib/common/pool.c.o\u001b[0m\n",
            "[  8%] \u001b[32mBuilding C object thirdparty/zstd-build/lib/CMakeFiles/libzstd_static.dir/__/__/__/lib/common/threading.c.o\u001b[0m\n",
            "[  9%] \u001b[32mBuilding C object thirdparty/zstd-build/lib/CMakeFiles/libzstd_static.dir/__/__/__/lib/common/xxhash.c.o\u001b[0m\n",
            "[ 11%] \u001b[32mBuilding C object thirdparty/zstd-build/lib/CMakeFiles/libzstd_static.dir/__/__/__/lib/common/zstd_common.c.o\u001b[0m\n",
            "[ 12%] \u001b[32mBuilding C object thirdparty/zstd-build/lib/CMakeFiles/libzstd_static.dir/__/__/__/lib/compress/fse_compress.c.o\u001b[0m\n",
            "[ 14%] \u001b[32mBuilding C object thirdparty/zstd-build/lib/CMakeFiles/libzstd_static.dir/__/__/__/lib/compress/hist.c.o\u001b[0m\n",
            "[ 15%] \u001b[32mBuilding C object thirdparty/zstd-build/lib/CMakeFiles/libzstd_static.dir/__/__/__/lib/compress/huf_compress.c.o\u001b[0m\n",
            "[ 16%] \u001b[32mBuilding C object thirdparty/zstd-build/lib/CMakeFiles/libzstd_static.dir/__/__/__/lib/compress/zstd_compress.c.o\u001b[0m\n",
            "[ 18%] \u001b[32mBuilding C object thirdparty/zstd-build/lib/CMakeFiles/libzstd_static.dir/__/__/__/lib/compress/zstd_compress_literals.c.o\u001b[0m\n",
            "[ 19%] \u001b[32mBuilding C object thirdparty/zstd-build/lib/CMakeFiles/libzstd_static.dir/__/__/__/lib/compress/zstd_compress_sequences.c.o\u001b[0m\n",
            "[ 21%] \u001b[32mBuilding C object thirdparty/zstd-build/lib/CMakeFiles/libzstd_static.dir/__/__/__/lib/compress/zstd_compress_superblock.c.o\u001b[0m\n",
            "[ 22%] \u001b[32mBuilding C object thirdparty/zstd-build/lib/CMakeFiles/libzstd_static.dir/__/__/__/lib/compress/zstd_double_fast.c.o\u001b[0m\n",
            "[ 23%] \u001b[32mBuilding C object thirdparty/zstd-build/lib/CMakeFiles/libzstd_static.dir/__/__/__/lib/compress/zstd_fast.c.o\u001b[0m\n",
            "[ 25%] \u001b[32mBuilding C object thirdparty/zstd-build/lib/CMakeFiles/libzstd_static.dir/__/__/__/lib/compress/zstd_lazy.c.o\u001b[0m\n",
            "[ 26%] \u001b[32mBuilding C object thirdparty/zstd-build/lib/CMakeFiles/libzstd_static.dir/__/__/__/lib/compress/zstd_ldm.c.o\u001b[0m\n",
            "[ 28%] \u001b[32mBuilding C object thirdparty/zstd-build/lib/CMakeFiles/libzstd_static.dir/__/__/__/lib/compress/zstd_opt.c.o\u001b[0m\n",
            "[ 29%] \u001b[32mBuilding C object thirdparty/zstd-build/lib/CMakeFiles/libzstd_static.dir/__/__/__/lib/compress/zstdmt_compress.c.o\u001b[0m\n",
            "[ 30%] \u001b[32mBuilding C object thirdparty/zstd-build/lib/CMakeFiles/libzstd_static.dir/__/__/__/lib/decompress/huf_decompress.c.o\u001b[0m\n",
            "[ 32%] \u001b[32mBuilding ASM object thirdparty/zstd-build/lib/CMakeFiles/libzstd_static.dir/__/__/__/lib/decompress/huf_decompress_amd64.S.o\u001b[0m\n",
            "[ 33%] \u001b[32mBuilding C object thirdparty/zstd-build/lib/CMakeFiles/libzstd_static.dir/__/__/__/lib/decompress/zstd_ddict.c.o\u001b[0m\n",
            "[ 35%] \u001b[32mBuilding C object thirdparty/zstd-build/lib/CMakeFiles/libzstd_static.dir/__/__/__/lib/decompress/zstd_decompress.c.o\u001b[0m\n",
            "[ 36%] \u001b[32mBuilding C object thirdparty/zstd-build/lib/CMakeFiles/libzstd_static.dir/__/__/__/lib/decompress/zstd_decompress_block.c.o\u001b[0m\n",
            "[ 38%] \u001b[32mBuilding C object thirdparty/zstd-build/lib/CMakeFiles/libzstd_static.dir/__/__/__/lib/dictBuilder/cover.c.o\u001b[0m\n",
            "[ 39%] \u001b[32mBuilding C object thirdparty/zstd-build/lib/CMakeFiles/libzstd_static.dir/__/__/__/lib/dictBuilder/divsufsort.c.o\u001b[0m\n",
            "[ 40%] \u001b[32mBuilding C object thirdparty/zstd-build/lib/CMakeFiles/libzstd_static.dir/__/__/__/lib/dictBuilder/fastcover.c.o\u001b[0m\n",
            "[ 42%] \u001b[32mBuilding C object thirdparty/zstd-build/lib/CMakeFiles/libzstd_static.dir/__/__/__/lib/dictBuilder/zdict.c.o\u001b[0m\n",
            "[ 43%] \u001b[32m\u001b[1mLinking C static library ../../../lib/libzstd.a\u001b[0m\n",
            "[ 43%] Built target libzstd_static\n",
            "[ 45%] \u001b[32mBuilding CXX object CMakeFiles/seal.dir/native/src/seal/batchencoder.cpp.o\u001b[0m\n",
            "[ 46%] \u001b[32mBuilding CXX object CMakeFiles/seal.dir/native/src/seal/ciphertext.cpp.o\u001b[0m\n",
            "[ 47%] \u001b[32mBuilding CXX object CMakeFiles/seal.dir/native/src/seal/ckks.cpp.o\u001b[0m\n",
            "[ 49%] \u001b[32mBuilding CXX object CMakeFiles/seal.dir/native/src/seal/context.cpp.o\u001b[0m\n",
            "[ 50%] \u001b[32mBuilding CXX object CMakeFiles/seal.dir/native/src/seal/decryptor.cpp.o\u001b[0m\n",
            "[ 52%] \u001b[32mBuilding CXX object CMakeFiles/seal.dir/native/src/seal/encryptionparams.cpp.o\u001b[0m\n",
            "[ 53%] \u001b[32mBuilding CXX object CMakeFiles/seal.dir/native/src/seal/encryptor.cpp.o\u001b[0m\n",
            "[ 54%] \u001b[32mBuilding CXX object CMakeFiles/seal.dir/native/src/seal/evaluator.cpp.o\u001b[0m\n",
            "[ 56%] \u001b[32mBuilding CXX object CMakeFiles/seal.dir/native/src/seal/keygenerator.cpp.o\u001b[0m\n",
            "[ 57%] \u001b[32mBuilding CXX object CMakeFiles/seal.dir/native/src/seal/kswitchkeys.cpp.o\u001b[0m\n",
            "[ 59%] \u001b[32mBuilding CXX object CMakeFiles/seal.dir/native/src/seal/memorymanager.cpp.o\u001b[0m\n",
            "[ 60%] \u001b[32mBuilding CXX object CMakeFiles/seal.dir/native/src/seal/modulus.cpp.o\u001b[0m\n",
            "[ 61%] \u001b[32mBuilding CXX object CMakeFiles/seal.dir/native/src/seal/plaintext.cpp.o\u001b[0m\n",
            "[ 63%] \u001b[32mBuilding CXX object CMakeFiles/seal.dir/native/src/seal/randomgen.cpp.o\u001b[0m\n",
            "[ 64%] \u001b[32mBuilding CXX object CMakeFiles/seal.dir/native/src/seal/serialization.cpp.o\u001b[0m\n",
            "[ 66%] \u001b[32mBuilding CXX object CMakeFiles/seal.dir/native/src/seal/valcheck.cpp.o\u001b[0m\n",
            "[ 67%] \u001b[32mBuilding C object CMakeFiles/seal.dir/native/src/seal/util/blake2b.c.o\u001b[0m\n",
            "[ 69%] \u001b[32mBuilding C object CMakeFiles/seal.dir/native/src/seal/util/blake2xb.c.o\u001b[0m\n",
            "[ 70%] \u001b[32mBuilding CXX object CMakeFiles/seal.dir/native/src/seal/util/clipnormal.cpp.o\u001b[0m\n",
            "[ 71%] \u001b[32mBuilding CXX object CMakeFiles/seal.dir/native/src/seal/util/common.cpp.o\u001b[0m\n",
            "[ 73%] \u001b[32mBuilding CXX object CMakeFiles/seal.dir/native/src/seal/util/croots.cpp.o\u001b[0m\n",
            "[ 74%] \u001b[32mBuilding C object CMakeFiles/seal.dir/native/src/seal/util/fips202.c.o\u001b[0m\n",
            "[ 76%] \u001b[32mBuilding CXX object CMakeFiles/seal.dir/native/src/seal/util/globals.cpp.o\u001b[0m\n",
            "[ 77%] \u001b[32mBuilding CXX object CMakeFiles/seal.dir/native/src/seal/util/galois.cpp.o\u001b[0m\n",
            "[ 78%] \u001b[32mBuilding CXX object CMakeFiles/seal.dir/native/src/seal/util/hash.cpp.o\u001b[0m\n",
            "[ 80%] \u001b[32mBuilding CXX object CMakeFiles/seal.dir/native/src/seal/util/iterator.cpp.o\u001b[0m\n",
            "[ 81%] \u001b[32mBuilding CXX object CMakeFiles/seal.dir/native/src/seal/util/mempool.cpp.o\u001b[0m\n",
            "[ 83%] \u001b[32mBuilding CXX object CMakeFiles/seal.dir/native/src/seal/util/numth.cpp.o\u001b[0m\n",
            "[ 84%] \u001b[32mBuilding CXX object CMakeFiles/seal.dir/native/src/seal/util/polyarithsmallmod.cpp.o\u001b[0m\n",
            "[ 85%] \u001b[32mBuilding CXX object CMakeFiles/seal.dir/native/src/seal/util/rlwe.cpp.o\u001b[0m\n",
            "[ 87%] \u001b[32mBuilding CXX object CMakeFiles/seal.dir/native/src/seal/util/rns.cpp.o\u001b[0m\n",
            "[ 88%] \u001b[32mBuilding CXX object CMakeFiles/seal.dir/native/src/seal/util/scalingvariant.cpp.o\u001b[0m\n",
            "[ 90%] \u001b[32mBuilding CXX object CMakeFiles/seal.dir/native/src/seal/util/ntt.cpp.o\u001b[0m\n",
            "[ 91%] \u001b[32mBuilding CXX object CMakeFiles/seal.dir/native/src/seal/util/streambuf.cpp.o\u001b[0m\n",
            "[ 92%] \u001b[32mBuilding CXX object CMakeFiles/seal.dir/native/src/seal/util/uintarith.cpp.o\u001b[0m\n",
            "[ 94%] \u001b[32mBuilding CXX object CMakeFiles/seal.dir/native/src/seal/util/uintarithmod.cpp.o\u001b[0m\n",
            "[ 95%] \u001b[32mBuilding CXX object CMakeFiles/seal.dir/native/src/seal/util/uintarithsmallmod.cpp.o\u001b[0m\n",
            "[ 97%] \u001b[32mBuilding CXX object CMakeFiles/seal.dir/native/src/seal/util/uintcore.cpp.o\u001b[0m\n",
            "[ 98%] \u001b[32mBuilding CXX object CMakeFiles/seal.dir/native/src/seal/util/ztools.cpp.o\u001b[0m\n",
            "[100%] \u001b[32m\u001b[1mLinking CXX static library lib/libseal-4.1.a\u001b[0m\n",
            "[100%] Built target seal\n",
            "/content/SEAL-Python/SEAL-Python\n",
            "running build_ext\n",
            "x86_64-linux-gnu-gcc -Wno-unused-result -Wsign-compare -DNDEBUG -g -fwrapv -O2 -Wall -g -fstack-protector-strong -Wformat -Werror=format-security -g -fwrapv -O2 -fPIC -I/usr/include/python3.10 -c flagcheck.cpp -o flagcheck.o -std=c++17\n",
            "building 'seal' extension\n",
            "creating build\n",
            "creating build/temp.linux-x86_64-cpython-310\n",
            "creating build/temp.linux-x86_64-cpython-310/src\n",
            "x86_64-linux-gnu-gcc -Wno-unused-result -Wsign-compare -DNDEBUG -g -fwrapv -O2 -Wall -g -fstack-protector-strong -Wformat -Werror=format-security -g -fwrapv -O2 -fPIC -DVERSION_INFO=4.0.0 -I/usr/include/python3.10 -Ipybind11/include -ISEAL/native/src -ISEAL/build/native/src -I/usr/local/lib/python3.10/dist-packages/pybind11/include -I/usr/include/python3.10 -c src/wrapper.cpp -o build/temp.linux-x86_64-cpython-310/src/wrapper.o -std=c++17 -fvisibility=hidden -g0 -std=c++17\n",
            "creating build/lib.linux-x86_64-cpython-310\n",
            "x86_64-linux-gnu-g++ -shared -Wl,-O1 -Wl,-Bsymbolic-functions -Wl,-Bsymbolic-functions -g -fwrapv -O2 build/temp.linux-x86_64-cpython-310/src/wrapper.o SEAL/build/lib/libseal-4.1.a SEAL/build/lib/libzstd.a -L/usr/lib/x86_64-linux-gnu -o build/lib.linux-x86_64-cpython-310/seal.cpython-310-x86_64-linux-gnu.so\n",
            "copying build/lib.linux-x86_64-cpython-310/seal.cpython-310-x86_64-linux-gnu.so -> \n"
          ]
        }
      ],
      "source": [
        "!git clone https://github.com/Huelse/SEAL-Python.git\n",
        "%cd SEAL-Python\n",
        "\n",
        "# Install dependencies\n",
        "!pip3 install numpy pybind11\n",
        "\n",
        "# Init the SEAL and pybind11\n",
        "!git submodule update --init --recursive\n",
        "# Get the newest repositories (dev only)\n",
        "# git submodule update --remote\n",
        "\n",
        "# Build the SEAL lib\n",
        "%cd SEAL\n",
        "!cmake -S . -B build -DSEAL_USE_MSGSL=OFF -DSEAL_USE_ZLIB=OFF\n",
        "!cmake --build build\n",
        "%cd ..\n",
        "\n",
        "# Run the setup.py\n",
        "!python3 setup.py build_ext -i\n"
      ]
    },
    {
      "cell_type": "markdown",
      "metadata": {
        "id": "26csJcg-qK-A"
      },
      "source": [
        "## 동형암호"
      ]
    },
    {
      "cell_type": "markdown",
      "metadata": {
        "id": "kW9rN1xBp6yl"
      },
      "source": [
        "### bgv 객체 생성 및 키 생성"
      ]
    },
    {
      "cell_type": "code",
      "execution_count": 2,
      "metadata": {
        "id": "_7Vhg5i-oBrK"
      },
      "outputs": [],
      "source": [
        "# SEAL 라이브러리의 모든 클래스와 함수를 임포트합니다.\n",
        "from seal import *\n",
        "import numpy as np\n",
        "\n",
        "# BGV 암호화 스킴을 사용할 암호화 매개변수 객체를 생성합니다.\n",
        "parms = EncryptionParameters(scheme_type.bgv)\n",
        "\n",
        "\"\"\"\n",
        "poly_modulus_degree가 클수록 암호화된 텍스트의 크기가 커지고 모든 연산이 느려지지만,\n",
        "더 복잡한 암호화된 계산을 가능하게 함. 권장되는 값들은 1024, 2048, 4096, 8192, 16384, 32768이지만,\n",
        "이 범위를 넘어가는 것도 가능\n",
        "\"\"\"\n",
        "poly_modulus_degree = 8192\n",
        "parms.set_poly_modulus_degree(poly_modulus_degree)\n",
        "parms.set_coeff_modulus(CoeffModulus.BFVDefault(poly_modulus_degree))\n",
        "parms.set_plain_modulus(8192)\n",
        "\n",
        "context = SEALContext(parms)\n",
        "\n",
        "# 키 생성\n",
        "\n",
        "keygen = KeyGenerator(context)\n",
        "\n",
        "secret_key = keygen.secret_key()\n",
        "public_key = keygen.create_public_key()\n",
        "relin_keys = keygen.create_relin_keys()\n",
        "galois_keys =  keygen.create_galois_keys()\n",
        "\n",
        "encryptor = Encryptor(context, public_key)\n",
        "evaluator = Evaluator(context)\n",
        "decryptor = Decryptor(context, secret_key)"
      ]
    },
    {
      "cell_type": "markdown",
      "metadata": {
        "id": "3EaPd-zTrId0"
      },
      "source": [
        "### [TODO]"
      ]
    },
    {
      "cell_type": "markdown",
      "metadata": {
        "id": "Gs0xt05-rdRU"
      },
      "source": [
        "#### 1.암호문 type 확인"
      ]
    },
    {
      "cell_type": "code",
      "execution_count": 3,
      "metadata": {
        "colab": {
          "base_uri": "https://localhost:8080/"
        },
        "id": "k9xbz9mTsSNm",
        "outputId": "87e905b6-557d-4eab-de80-f0f923bbe7f0"
      },
      "outputs": [
        {
          "output_type": "stream",
          "name": "stdout",
          "text": [
            "평문화된 텍스트 값 (문자열): 1000\n",
            "평문화된 텍스트 객체 주소: <seal.Plaintext object at 0x7f4255c255f0>\n",
            "평문화된 텍스트 값의 타입: <class 'str'>\n",
            "평문화된 텍스트 객체의 타입: <class 'seal.Plaintext'>\n",
            "\n",
            "암호화된 텍스트 객체 주소: <seal.Ciphertext object at 0x7f4255c25270>\n",
            "암호화된 텍스트 값의 타입: <class 'bytes'>\n",
            "암호화된 객체의 타입: <class 'seal.Ciphertext'>\n",
            "\n",
            "복호화된 텍스트 값 (문자열): 1000\n",
            "복호화된 텍스트 객체 주소: <seal.Plaintext object at 0x7f4255c245f0>\n",
            "복호화된 텍스트 값의 타입: <class 'str'>\n",
            "복호화된 객체의 타입: <class 'seal.Plaintext'>\n"
          ]
        }
      ],
      "source": [
        "# 암호화 및 복호화\n",
        "plaintext = Plaintext(\"1000\")\n",
        "print(\"평문화된 텍스트 값 (문자열):\", plaintext.to_string())\n",
        "print(\"평문화된 텍스트 객체 주소:\", plaintext)\n",
        "print(\"평문화된 텍스트 값의 타입:\", type(plaintext.to_string()))\n",
        "print(\"평문화된 텍스트 객체의 타입:\", type(plaintext))\n",
        "\n",
        "print()\n",
        "ciphertext = Ciphertext()\n",
        "ciphertext = encryptor.encrypt(plaintext)\n",
        "#print(\"암호화된 텍스트 값 (문자열):\", ciphertext.to_string())\n",
        "print(\"암호화된 텍스트 객체 주소:\", ciphertext)\n",
        "print(\"암호화된 텍스트 값의 타입:\", type(ciphertext.to_string()))\n",
        "print(\"암호화된 객체의 타입:\", type(ciphertext))\n",
        "\n",
        "print()\n",
        "decrypted = Plaintext()\n",
        "decryptor.decrypt(ciphertext, decrypted)\n",
        "print(\"복호화된 텍스트 값 (문자열):\", decrypted.to_string())\n",
        "print(\"복호화된 텍스트 객체 주소:\", decrypted)\n",
        "print(\"복호화된 텍스트 값의 타입:\", type(decrypted.to_string()))\n",
        "print(\"복호화된 객체의 타입:\", type(decrypted))\n"
      ]
    },
    {
      "cell_type": "markdown",
      "metadata": {
        "id": "7TwVPVG-rX7f"
      },
      "source": [
        "#### 2.암호문 + 암호문\n",
        ">모듈 2가지\n",
        "1.   evaluator.add(ciphertext1,ciphertext2) : return 값 있음.\n",
        "2.   evaluator.add_inaplace(ciphertext1,ciphertext2) : ciphertext+=ciphertext2 (no return)\n"
      ]
    },
    {
      "cell_type": "markdown",
      "metadata": {
        "id": "J1G_yrwDfgFP"
      },
      "source": [
        "##### 전체 예제 코드"
      ]
    },
    {
      "cell_type": "code",
      "execution_count": 5,
      "metadata": {
        "colab": {
          "base_uri": "https://localhost:8080/"
        },
        "id": "08gp3QhCbiYC",
        "outputId": "b5f6990a-e0be-4757-b21a-7f3dc3ca8281"
      },
      "outputs": [
        {
          "output_type": "stream",
          "name": "stdout",
          "text": [
            "결과: <seal.Plaintext object at 0x7f4255c4d7b0>\n",
            "결과: <class 'str'>\n",
            "결과: 9\n",
            "복호화된 결과는 16진수를 나타냅니다.\n"
          ]
        }
      ],
      "source": [
        "# 암호화\n",
        "plaintext1 = Plaintext(\"6\")\n",
        "plaintext2 = Plaintext(\"3\")\n",
        "\n",
        "ciphertext1 = encryptor.encrypt(plaintext1)       # 6를 암호화하여 ciphertext1에 저장\n",
        "ciphertext2 = encryptor.encrypt(plaintext2)       # 3을 암호화하여 ciphertext2에 저장\n",
        "\n",
        "# 암호문 + 암호문 덧셈 1 (add 모듈)\n",
        "result_ciphertext = evaluator.add(ciphertext1, ciphertext2)\n",
        "\n",
        "# 암호문 + 암호문 덧셈 2 (add_inplace 모듈)\n",
        "evaluator.add_inplace(ciphertext1, ciphertext2)\n",
        "\n",
        "# 결과 복호화\n",
        "# result_ciphertext를 복호화하여 그 결과를 decrypted에 저장\n",
        "decrypted = Plaintext()\n",
        "decryptor.decrypt(result_ciphertext, decrypted)\n",
        "\n",
        "print(\"결과:\", decrypted)     # to_string 안할시, 복호화된 배열 주소가 출력됨.\n",
        "decrypted_result =  decrypted.to_string()\n",
        "print(\"결과:\",type(decrypted_result))\n",
        "print(\"결과:\",decrypted_result)\n",
        "\n",
        "# 문자열 형식을 기반으로 진수 판단\n",
        "# SEAL은 일반적으로 16진수 형태의 문자열을 반환합니다.\n",
        "if all(c in '0123456789ABCDEF' for c in decrypted_result.upper()):\n",
        "    print(\"복호화된 결과는 16진수를 나타냅니다.\")\n",
        "else:\n",
        "    print(\"복호화된 결과의 진수를 판단할 수 없습니다.\")\n"
      ]
    },
    {
      "cell_type": "markdown",
      "metadata": {
        "id": "uESQwWZle3YY"
      },
      "source": [
        "##### 코드 요약"
      ]
    },
    {
      "cell_type": "code",
      "execution_count": 6,
      "metadata": {
        "colab": {
          "base_uri": "https://localhost:8080/"
        },
        "id": "FtuyJLbeeJ9Y",
        "outputId": "117ff5c3-58e5-46b4-afac-626881301904"
      },
      "outputs": [
        {
          "output_type": "stream",
          "name": "stdout",
          "text": [
            "결과: <seal.Plaintext object at 0x7f4256b71db0>\n",
            "결과: 9\n",
            "덧셈 후 노이즈 예산: 152 bits\n"
          ]
        }
      ],
      "source": [
        "# 암호화 초기 단계 : plalintext 객체 생성\n",
        "plaintext1 = Plaintext(\"6\")\n",
        "plaintext2 = Plaintext(\"3\")\n",
        "\n",
        "\n",
        "# Chiphertext\n",
        "ciphertext1 = encryptor.encrypt(plaintext1)\n",
        "ciphertext2 = encryptor.encrypt(plaintext2)\n",
        "\n",
        "\n",
        "# 암호문 + 비암호문 덧셈 (add module 사용)\n",
        "result_ciphertext = evaluator.add(ciphertext1, ciphertext2)\n",
        "\n",
        "# 결과 복호화\n",
        "decrypted = Plaintext()\n",
        "decryptor.decrypt(result_ciphertext, decrypted) # 인자 type : (ciphertext, plaintext)\n",
        "print(\"결과:\", decrypted)                        # to_string 안할시, 배열 주소가 출력됨.\n",
        "print(\"결과:\", decrypted.to_string())\n",
        "\n",
        "noise_budget_after = decryptor.invariant_noise_budget(result_ciphertext)\n",
        "print(\"덧셈 후 노이즈 예산:\", noise_budget_after, \"bits\")"
      ]
    },
    {
      "cell_type": "markdown",
      "metadata": {
        "id": "4A3F3v6frjPS"
      },
      "source": [
        "#### 3.암호문 + 비암호문\n",
        ">모듈 1가지\n",
        "1.   evaluator.add_plain(ciphertext1,ciphertext2) : return 값 있음.\n",
        "\n",
        "example\n",
        "\n",
        "`result_ciphertext = evaluator.add_plain(ciphertext1, plaintext2)`"
      ]
    },
    {
      "cell_type": "code",
      "execution_count": 7,
      "metadata": {
        "colab": {
          "base_uri": "https://localhost:8080/"
        },
        "id": "U-_W7XEUfda2",
        "outputId": "3c6ccf5f-0f88-4e6f-8810-ae5e004ca069"
      },
      "outputs": [
        {
          "output_type": "stream",
          "name": "stdout",
          "text": [
            "결과: <seal.Plaintext object at 0x7f4255c4f870>\n",
            "결과: 9\n",
            "덧셈 후 노이즈 예산: 153 bits\n"
          ]
        }
      ],
      "source": [
        "# 암호화 초기 단계 : plalintext 객체 생성\n",
        "plaintext1 = Plaintext(\"6\")\n",
        "plaintext2 = Plaintext(\"3\")\n",
        "\n",
        "\n",
        "# Chiphertext\n",
        "ciphertext1 = encryptor.encrypt(plaintext1)\n",
        "\n",
        "# 암호문 + 비암호문 덧셈 (add_plain 모듈 사용)\n",
        "result_ciphertext = evaluator.add_plain(ciphertext1, plaintext2)\n",
        "\n",
        "# 결과 복호화\n",
        "decrypted = Plaintext()\n",
        "decryptor.decrypt(result_ciphertext, decrypted) # 인자 type : (ciphertext, plaintext)\n",
        "print(\"결과:\", decrypted)                         # to_string 안할시, 배열 주소가 출력됨.\n",
        "print(\"결과:\", decrypted.to_string())\n",
        "\n",
        "noise_budget_after = decryptor.invariant_noise_budget(result_ciphertext)\n",
        "print(\"덧셈 후 노이즈 예산:\", noise_budget_after, \"bits\")"
      ]
    },
    {
      "cell_type": "markdown",
      "metadata": {
        "id": "l4POeMlGrnt-"
      },
      "source": [
        "####4.암호문 * 암호문\n",
        ">모듈 2가지\n",
        "1.   evaluator.multiply(ciphertext1,ciphertext2) : return 값 있음.\n",
        "2.   evaluator.multiply_inaplace(ciphertext1,ciphertext2) : ciphertext+=ciphertext2 (no return)"
      ]
    },
    {
      "cell_type": "code",
      "execution_count": 8,
      "metadata": {
        "colab": {
          "base_uri": "https://localhost:8080/"
        },
        "id": "VMsMqF_Lf2bb",
        "outputId": "58916008-7bc2-454c-a480-4d56dd8162b5"
      },
      "outputs": [
        {
          "output_type": "stream",
          "name": "stdout",
          "text": [
            "multiply 모듈 쓴 결과(16진수): 12\n",
            "multiply 모듈 쓴 결과(10진수): 18\n",
            "곱셈 후 노이즈 예산: 124 bits\n"
          ]
        }
      ],
      "source": [
        "# plaintext 객체 생성\n",
        "plaintext1 = Plaintext(\"6\")\n",
        "plaintext2 = Plaintext(\"3\")\n",
        "\n",
        "# 암호화\n",
        "ciphertext1 = encryptor.encrypt(plaintext1)\n",
        "ciphertext2 = encryptor.encrypt(plaintext2)\n",
        "\n",
        "# 암호문 곱셈 (두가지 방법중 택 1)\n",
        "#result = evaluator.multiply(ciphertext1, ciphertext2)\n",
        "evaluator.multiply_inplace(ciphertext1, ciphertext2)\n",
        "\n",
        "# 결과 복호화\n",
        "decrypted = Plaintext()\n",
        "decryptor.decrypt(ciphertext1, decrypted)\n",
        "print(\"multiply 모듈 쓴 결과(16진수):\", decrypted.to_string())            # 결과 12 이지만, 16진수 12 = 10진수 18임\n",
        "print(\"multiply 모듈 쓴 결과(10진수):\", int(decrypted.to_string(),16))    # 6진수라서 to_String한 결과는 16진수 형태라서 10진수로 바꿈.\n",
        "\n",
        "# 곱셈 후 노이즈 예산 확인\n",
        "noise_budget_after = decryptor.invariant_noise_budget(ciphertext1)\n",
        "print(\"곱셈 후 노이즈 예산:\", noise_budget_after, \"bits\")\n"
      ]
    },
    {
      "cell_type": "markdown",
      "metadata": {
        "id": "r4LceRhnrvGR"
      },
      "source": [
        "####5.암호문*비암호문\n",
        ">모듈 2가지\n",
        "1.   evaluator.multiply_plain(ciphertext1,plaintext2) : return 값 있음.\n",
        "2.   evaluator.multiply_plain_inaplace(ciphertext1,plaintext2) : (no return)"
      ]
    },
    {
      "cell_type": "code",
      "execution_count": 9,
      "metadata": {
        "colab": {
          "base_uri": "https://localhost:8080/"
        },
        "id": "clQSPeFbkqQ3",
        "outputId": "4856e45b-dff2-4f26-8797-ae3978dba1cc"
      },
      "outputs": [
        {
          "output_type": "stream",
          "name": "stdout",
          "text": [
            "multiply 모듈 쓴 결과(16진수): 12\n",
            "multiply 모듈 쓴 결과(10진수): 18\n",
            "곱셈 후 노이즈 예산: 151 bits\n"
          ]
        }
      ],
      "source": [
        "# plaintext 객체 생성\n",
        "plaintext1 = Plaintext(\"6\")\n",
        "plaintext2 = Plaintext(\"3\")\n",
        "\n",
        "# 암호화\n",
        "ciphertext1 = encryptor.encrypt(plaintext1)\n",
        "\n",
        "# 암호문 곱셈 (두가지 방법중 택 1)\n",
        "#result = evaluator.multiply(ciphertext1, ciphertext2)\n",
        "evaluator.multiply_plain_inplace(ciphertext1, plaintext2)\n",
        "\n",
        "# 결과 복호화\n",
        "decrypted = Plaintext()\n",
        "decryptor.decrypt(ciphertext1, decrypted)\n",
        "print(\"multiply 모듈 쓴 결과(16진수):\", decrypted.to_string())            # 결과 12 이지만, 16진수 12 = 10진수 18임\n",
        "print(\"multiply 모듈 쓴 결과(10진수):\", int(decrypted.to_string(),16))    # 6진수라서 to_String한 결과는 16진수 형태라서 10진수로 바꿈.\n",
        "\n",
        "# 곱셈 후 노이즈 예산 확인\n",
        "noise_budget_after = decryptor.invariant_noise_budget(ciphertext1)\n",
        "print(\"곱셈 후 노이즈 예산:\", noise_budget_after, \"bits\")\n"
      ]
    },
    {
      "cell_type": "markdown",
      "source": [
        "####6.재선형화"
      ],
      "metadata": {
        "id": "X3XGmG6SqXvj"
      }
    },
    {
      "cell_type": "code",
      "source": [],
      "metadata": {
        "id": "9Em_gMkeqh92"
      },
      "execution_count": null,
      "outputs": []
    },
    {
      "cell_type": "markdown",
      "metadata": {
        "id": "V3rRXibpryX1"
      },
      "source": [
        "####7.복호화"
      ]
    },
    {
      "cell_type": "markdown",
      "metadata": {
        "id": "IsL2MIfBl6-z"
      },
      "source": [
        "decrypted = Plaintext()  -> 복호화 할 변수(plaintext)\n",
        "\n",
        "decryptor.decrypt(암호문, decrypted)\n",
        "\n",
        "decrypted.to_string : 복호화한 결과 값 추출\n",
        "\n",
        "decrypted : 배열주소"
      ]
    },
    {
      "cell_type": "code",
      "execution_count": null,
      "metadata": {
        "id": "-FCyTvJQmW8S"
      },
      "outputs": [],
      "source": [
        "# 결과 복호화\n",
        "decrypted = Plaintext()\n",
        "decryptor.decrypt(ciphertext1, decrypted)\n",
        "print(\"복호화 결과:\", decrypted.to_string())"
      ]
    }
  ],
  "metadata": {
    "colab": {
      "collapsed_sections": [
        "k3-mj7PWn_r4",
        "kW9rN1xBp6yl",
        "Gs0xt05-rdRU",
        "J1G_yrwDfgFP",
        "uESQwWZle3YY",
        "4A3F3v6frjPS"
      ],
      "toc_visible": true,
      "provenance": [],
      "authorship_tag": "ABX9TyMlkrPXot6gAk+c76lFH3Cl",
      "include_colab_link": true
    },
    "kernelspec": {
      "display_name": "Python 3",
      "name": "python3"
    },
    "language_info": {
      "name": "python"
    }
  },
  "nbformat": 4,
  "nbformat_minor": 0
}